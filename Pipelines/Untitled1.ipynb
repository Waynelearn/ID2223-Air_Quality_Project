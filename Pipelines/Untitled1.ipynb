{
 "cells": [
  {
   "cell_type": "code",
   "execution_count": 2,
   "metadata": {},
   "outputs": [],
   "source": [
    "import os\n",
    "\n",
    "from Weather_API_utility import WeatherAPI\n",
    "\n",
    "LOCAL=False\n",
    "\n",
    "def weather_feature_engineering(df):\n",
    "    #drop columns\n",
    "    temp=df.copy()\n",
    "    drop=[\"datetimeEpoch\",\n",
    "          \"preciptype\",\"snowdepth\",\"sunrise\",\n",
    "          \"sunset\",\"icon\",\"stations\",\"source\",\n",
    "          \"description\",\"conditions\"]\n",
    "    temp=temp.drop(drop,axis=1)\n",
    "    return temp\n",
    "\n",
    "def update_mapping(new,d):\n",
    "    temp=d.copy()\n",
    "    for i in range(7,1,-1):\n",
    "        temp[i]=temp[i-1]\n",
    "    temp[1]=new\n",
    "    return temp\n",
    "\n",
    "\n",
    "def g():\n",
    "    import pandas as pd\n",
    "    import hopsworks\n",
    "    import joblib\n",
    "    import datetime\n",
    "    import numpy as np\n",
    "    project = hopsworks.login(project=\"test42\")\n",
    "    fs = project.get_feature_store()\n",
    "    mr = project.get_model_registry()\n",
    "    model = mr.get_model(\"aqi_model_modal\", version=1)\n",
    "    model_dir = model.download()\n",
    "    model = joblib.load(model_dir + \"/aqi_model.pkl\")\n",
    "\n",
    "    weather_api=\"F5B6R3DHJAYYTDG9XVLMMHRBR\"\n",
    "    lat=1.3521\n",
    "    lng=103.8198\n",
    "    unitGroup=\"metric\"\n",
    "    include=\"days\"\n",
    "    w=WeatherAPI(weather_api,lat,lng,unitGroup,include)\n",
    "\n",
    "    weather_input=w.forcast_query(7)\n",
    "    weather_input=weather_feature_engineering(weather_input)\n",
    "    \n",
    "    date_lst=weather_input.datetime.values.tolist()\n",
    "\n",
    "    weather_input=weather_input.drop(\"datetime\",axis=1)\n",
    "    weather_list=weather_input.values.tolist()\n",
    "    \n",
    "\n",
    "\n",
    "    fg = fs.get_or_create_feature_group(\n",
    "        name=\"aqi\",\n",
    "        version=1,\n",
    "        primary_key=['datetime','aqi'], \n",
    "        description=\"aqi\")\n",
    "    aqi_raw=fg.read()\n",
    "    aqi_raw=aqi_raw.sort_values(by=\"datetime\")\n",
    "\n",
    "    last_7_days_aqi=aqi_raw.tail(7)[\"aqi\"]\n",
    "    last7dayslst=last_7_days_aqi.values.tolist()\n",
    "\n",
    "\n",
    "    mapping = dict(zip([i for i in range(1,8)],last7dayslst))\n",
    "\n",
    "    curr_aqi=list(mapping.values())\n",
    "    curr_x=weather_list[0]\n",
    "    curr_x.extend(curr_aqi)\n",
    "\n",
    "    curr_x=np.array([curr_x])\n",
    "\n",
    "    res=[]\n",
    "    pred=model.predict(curr_x)[0]\n",
    "    res.append(pred)\n",
    "    mapping=update_mapping(pred,mapping)\n",
    "    for i in range(1,7):\n",
    "        curr_aqi=list(mapping.values())\n",
    "        curr_x=weather_list[i]\n",
    "        curr_x.extend(curr_aqi)\n",
    "        curr_x=np.array([curr_x])\n",
    "        pred=model.predict(curr_x)[0]\n",
    "        res.append(pred)\n",
    "        mapping=update_mapping(pred,mapping)\n",
    "    final=pd.DataFrame({\"datetime\":date_lst,\"aqi\":res})\n",
    "    print(final)\n",
    "    print(datetime.timezone)\n",
    "    L = datetime.datetime.now(datetime.timezone.utc).astimezone().tzinfo\n",
    "\n",
    "    print(L)"
   ]
  },
  {
   "cell_type": "code",
   "execution_count": 4,
   "metadata": {},
   "outputs": [
    {
     "ename": "ModuleNotFoundError",
     "evalue": "No module named 'hopsworks'",
     "output_type": "error",
     "traceback": [
      "\u001b[1;31m---------------------------------------------------------------------------\u001b[0m",
      "\u001b[1;31mModuleNotFoundError\u001b[0m                       Traceback (most recent call last)",
      "\u001b[1;32m<ipython-input-4-5fd69ddb5074>\u001b[0m in \u001b[0;36m<module>\u001b[1;34m\u001b[0m\n\u001b[1;32m----> 1\u001b[1;33m \u001b[0mg\u001b[0m\u001b[1;33m(\u001b[0m\u001b[1;33m)\u001b[0m\u001b[1;33m\u001b[0m\u001b[1;33m\u001b[0m\u001b[0m\n\u001b[0m",
      "\u001b[1;32m<ipython-input-2-2f3750876d3e>\u001b[0m in \u001b[0;36mg\u001b[1;34m()\u001b[0m\n\u001b[0;32m     25\u001b[0m \u001b[1;32mdef\u001b[0m \u001b[0mg\u001b[0m\u001b[1;33m(\u001b[0m\u001b[1;33m)\u001b[0m\u001b[1;33m:\u001b[0m\u001b[1;33m\u001b[0m\u001b[1;33m\u001b[0m\u001b[0m\n\u001b[0;32m     26\u001b[0m     \u001b[1;32mimport\u001b[0m \u001b[0mpandas\u001b[0m \u001b[1;32mas\u001b[0m \u001b[0mpd\u001b[0m\u001b[1;33m\u001b[0m\u001b[1;33m\u001b[0m\u001b[0m\n\u001b[1;32m---> 27\u001b[1;33m     \u001b[1;32mimport\u001b[0m \u001b[0mhopsworks\u001b[0m\u001b[1;33m\u001b[0m\u001b[1;33m\u001b[0m\u001b[0m\n\u001b[0m\u001b[0;32m     28\u001b[0m     \u001b[1;32mimport\u001b[0m \u001b[0mjoblib\u001b[0m\u001b[1;33m\u001b[0m\u001b[1;33m\u001b[0m\u001b[0m\n\u001b[0;32m     29\u001b[0m     \u001b[1;32mimport\u001b[0m \u001b[0mdatetime\u001b[0m\u001b[1;33m\u001b[0m\u001b[1;33m\u001b[0m\u001b[0m\n",
      "\u001b[1;31mModuleNotFoundError\u001b[0m: No module named 'hopsworks'"
     ]
    }
   ],
   "source": [
    "g()"
   ]
  },
  {
   "cell_type": "code",
   "execution_count": null,
   "metadata": {},
   "outputs": [],
   "source": []
  },
  {
   "cell_type": "code",
   "execution_count": null,
   "metadata": {},
   "outputs": [],
   "source": []
  },
  {
   "cell_type": "code",
   "execution_count": null,
   "metadata": {},
   "outputs": [],
   "source": []
  }
 ],
 "metadata": {
  "kernelspec": {
   "display_name": "Python 3",
   "language": "python",
   "name": "python3"
  },
  "language_info": {
   "codemirror_mode": {
    "name": "ipython",
    "version": 3
   },
   "file_extension": ".py",
   "mimetype": "text/x-python",
   "name": "python",
   "nbconvert_exporter": "python",
   "pygments_lexer": "ipython3",
   "version": "3.8.5"
  }
 },
 "nbformat": 4,
 "nbformat_minor": 4
}
