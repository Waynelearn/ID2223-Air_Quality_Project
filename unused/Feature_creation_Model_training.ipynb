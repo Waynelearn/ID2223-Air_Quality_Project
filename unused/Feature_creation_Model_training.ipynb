{
 "cells": [
  {
   "cell_type": "code",
   "execution_count": 299,
   "id": "3ff27b91-7ae2-447a-bf00-62e993e461c3",
   "metadata": {},
   "outputs": [],
   "source": [
    "import json\n",
    "import urllib\n",
    "import pandas as pd\n",
    "import datetime"
   ]
  },
  {
   "cell_type": "markdown",
   "id": "4682dd44-15c3-4ec9-8bc3-d5c4ed32710a",
   "metadata": {},
   "source": [
    "# Historical Weather data"
   ]
  },
  {
   "cell_type": "code",
   "execution_count": 300,
   "id": "41890694-ea56-4a1c-a3e0-72739f143098",
   "metadata": {},
   "outputs": [],
   "source": [
    "end_date=datetime.datetime.strptime(\"2023-01-14\",\"%Y-%m-%d\")\n",
    "start_date=end_date+datetime.timedelta(days=-40)\n"
   ]
  },
  {
   "cell_type": "code",
   "execution_count": 301,
   "id": "9512f8f9-95cf-4d57-a03d-fde018ccd11b",
   "metadata": {},
   "outputs": [],
   "source": [
    "base_url=\"https://weather.visualcrossing.com/VisualCrossingWebServices/rest/services/timeline\"\n",
    "weather_api=\"F5B6R3DHJAYYTDG9XVLMMHRBR\"\n",
    "lat=1.3521\n",
    "lng=103.8198\n",
    "location=f\"{lat},{lng}\"\n",
    "unitGroup=\"metric\"\n",
    "Include=\"days\"\n",
    "start=start_date.strftime(\"%Y-%m-%d\")\n",
    "end=end_date.strftime(\"%Y-%m-%d\")"
   ]
  },
  {
   "cell_type": "code",
   "execution_count": 302,
   "id": "dda8f1dd-f6b0-4c47-a850-a31c7343dcd2",
   "metadata": {},
   "outputs": [],
   "source": [
    "history_query=f\"{base_url}/{location}/{start}/{end}?&unitGroup={unitGroup}&include={Include}&key={weather_api}\""
   ]
  },
  {
   "cell_type": "code",
   "execution_count": 303,
   "id": "6aff6912-9953-40bb-b5cd-14618ede27b7",
   "metadata": {},
   "outputs": [
    {
     "data": {
      "text/plain": [
       "'https://weather.visualcrossing.com/VisualCrossingWebServices/rest/services/timeline/1.3521,103.8198/2022-12-05/2023-01-14?&unitGroup=metric&include=days&key=F5B6R3DHJAYYTDG9XVLMMHRBR'"
      ]
     },
     "execution_count": 303,
     "metadata": {},
     "output_type": "execute_result"
    }
   ],
   "source": [
    "history_query"
   ]
  },
  {
   "cell_type": "code",
   "execution_count": 304,
   "id": "d9e017b9-2ca9-42e8-bfd8-10c7c003095c",
   "metadata": {},
   "outputs": [],
   "source": [
    "weather_json=urllib.request.urlopen(history_query)"
   ]
  },
  {
   "cell_type": "code",
   "execution_count": 305,
   "id": "71e1fded-f4f1-40c0-87b3-2bec556231b8",
   "metadata": {},
   "outputs": [],
   "source": [
    "weather_data=json.loads(weather_json.read())"
   ]
  },
  {
   "cell_type": "code",
   "execution_count": 306,
   "id": "2016e259-58c3-4f09-8165-601f2beb3703",
   "metadata": {},
   "outputs": [],
   "source": [
    "weather_training_data=pd.DataFrame(weather_data[\"days\"])"
   ]
  },
  {
   "cell_type": "code",
   "execution_count": 307,
   "id": "f8aebe99-4540-453b-9ee2-e1126d57f2b0",
   "metadata": {},
   "outputs": [
    {
     "data": {
      "text/plain": [
       "Index(['datetime', 'datetimeEpoch', 'tempmax', 'tempmin', 'temp',\n",
       "       'feelslikemax', 'feelslikemin', 'feelslike', 'dew', 'humidity',\n",
       "       'precip', 'precipprob', 'precipcover', 'preciptype', 'snow',\n",
       "       'snowdepth', 'windgust', 'windspeed', 'winddir', 'pressure',\n",
       "       'cloudcover', 'visibility', 'solarradiation', 'solarenergy', 'uvindex',\n",
       "       'severerisk', 'sunrise', 'sunriseEpoch', 'sunset', 'sunsetEpoch',\n",
       "       'moonphase', 'conditions', 'description', 'icon', 'stations', 'source'],\n",
       "      dtype='object')"
      ]
     },
     "execution_count": 307,
     "metadata": {},
     "output_type": "execute_result"
    }
   ],
   "source": [
    "weather_training_data.columns"
   ]
  },
  {
   "cell_type": "code",
   "execution_count": 308,
   "id": "a5c72bcf-ab8f-4b72-8a5e-3fdad8a12b63",
   "metadata": {},
   "outputs": [],
   "source": [
    "weather_training_data[\"datetime\"]=weather_training_data[\"datetime\"].apply(lambda x:datetime.datetime.strptime(x,\"%Y-%m-%d\"))"
   ]
  },
  {
   "cell_type": "markdown",
   "id": "76de9740-0793-41a6-b679-472edb4af24a",
   "metadata": {},
   "source": [
    "# Forcast function"
   ]
  },
  {
   "cell_type": "code",
   "execution_count": 309,
   "id": "624d6141-b368-4c0d-b5cb-75585e641b9e",
   "metadata": {},
   "outputs": [],
   "source": [
    "today=datetime.date.today()\n",
    "def forcast_raw(today):\n",
    "    base_url=\"https://weather.visualcrossing.com/VisualCrossingWebServices/rest/services/timeline\"\n",
    "    weather_api=\"F5B6R3DHJAYYTDG9XVLMMHRBR\"\n",
    "    lat=1.3521\n",
    "    lng=103.8198\n",
    "    location=f\"{lat},{lng}\"\n",
    "    unitGroup=\"metric\"\n",
    "    Include=\"days\"\n",
    "    start_date=today\n",
    "    end_date=start_date+datetime.timedelta(days=6)\n",
    "    start=start_date.strftime(\"%Y-%m-%d\")\n",
    "    end=end_date.strftime(\"%Y-%m-%d\")\n",
    "    forcast_query=f\"{base_url}/{location}/{start}/{end}?&unitGroup={unitGroup}&include={Include}&key={weather_api}\"\n",
    "    forcast_json=urllib.request.urlopen(forcast_query)\n",
    "    forcast_data=json.loads(forcast_json.read())\n",
    "    forcast_data=pd.DataFrame(forcast_data[\"days\"])\n",
    "    forcast_data[\"datetime\"]=forcast_data[\"datetime\"].apply(lambda x:datetime.datetime.strptime(x,\"%Y-%m-%d\"))\n",
    "    return forcast_data"
   ]
  },
  {
   "cell_type": "code",
   "execution_count": 310,
   "id": "20adc137-c383-4f27-a828-6e972898f4f2",
   "metadata": {},
   "outputs": [],
   "source": [
    "forcast_data=forcast_raw(today)"
   ]
  },
  {
   "cell_type": "code",
   "execution_count": 311,
   "id": "2859b4d8-9941-4fbd-864e-62ea39354874",
   "metadata": {},
   "outputs": [
    {
     "data": {
      "text/plain": [
       "Index(['datetime', 'datetimeEpoch', 'tempmax', 'tempmin', 'temp',\n",
       "       'feelslikemax', 'feelslikemin', 'feelslike', 'dew', 'humidity',\n",
       "       'precip', 'precipprob', 'precipcover', 'preciptype', 'snow',\n",
       "       'snowdepth', 'windgust', 'windspeed', 'winddir', 'pressure',\n",
       "       'cloudcover', 'visibility', 'solarradiation', 'solarenergy', 'uvindex',\n",
       "       'severerisk', 'sunrise', 'sunriseEpoch', 'sunset', 'sunsetEpoch',\n",
       "       'moonphase', 'conditions', 'description', 'icon', 'stations', 'source'],\n",
       "      dtype='object')"
      ]
     },
     "execution_count": 311,
     "metadata": {},
     "output_type": "execute_result"
    }
   ],
   "source": [
    "forcast_data.columns"
   ]
  },
  {
   "cell_type": "markdown",
   "id": "fc459ffd-d936-4fdc-af8e-421fbf951238",
   "metadata": {},
   "source": [
    "# Historical Air quality data"
   ]
  },
  {
   "cell_type": "code",
   "execution_count": 312,
   "id": "7bd4ea6b-79e2-4e3b-91b6-d08e9ae78fc3",
   "metadata": {},
   "outputs": [],
   "source": [
    "aqi_data=pd.read_csv(\"aqi_training_data.csv\",index_col=0)"
   ]
  },
  {
   "cell_type": "code",
   "execution_count": 313,
   "id": "4aeae955-4dbf-439e-94d7-027b0a3d1f1c",
   "metadata": {},
   "outputs": [
    {
     "data": {
      "text/html": [
       "<div>\n",
       "<style scoped>\n",
       "    .dataframe tbody tr th:only-of-type {\n",
       "        vertical-align: middle;\n",
       "    }\n",
       "\n",
       "    .dataframe tbody tr th {\n",
       "        vertical-align: top;\n",
       "    }\n",
       "\n",
       "    .dataframe thead th {\n",
       "        text-align: right;\n",
       "    }\n",
       "</style>\n",
       "<table border=\"1\" class=\"dataframe\">\n",
       "  <thead>\n",
       "    <tr style=\"text-align: right;\">\n",
       "      <th></th>\n",
       "      <th>datetime</th>\n",
       "      <th>aqi</th>\n",
       "    </tr>\n",
       "  </thead>\n",
       "  <tbody>\n",
       "    <tr>\n",
       "      <th>0</th>\n",
       "      <td>17/12/2022</td>\n",
       "      <td>29</td>\n",
       "    </tr>\n",
       "    <tr>\n",
       "      <th>1</th>\n",
       "      <td>18/12/2022</td>\n",
       "      <td>33</td>\n",
       "    </tr>\n",
       "    <tr>\n",
       "      <th>2</th>\n",
       "      <td>19/12/2022</td>\n",
       "      <td>29</td>\n",
       "    </tr>\n",
       "    <tr>\n",
       "      <th>3</th>\n",
       "      <td>20/12/2022</td>\n",
       "      <td>27</td>\n",
       "    </tr>\n",
       "    <tr>\n",
       "      <th>4</th>\n",
       "      <td>21/12/2022</td>\n",
       "      <td>31</td>\n",
       "    </tr>\n",
       "  </tbody>\n",
       "</table>\n",
       "</div>"
      ],
      "text/plain": [
       "     datetime  aqi\n",
       "0  17/12/2022   29\n",
       "1  18/12/2022   33\n",
       "2  19/12/2022   29\n",
       "3  20/12/2022   27\n",
       "4  21/12/2022   31"
      ]
     },
     "execution_count": 313,
     "metadata": {},
     "output_type": "execute_result"
    }
   ],
   "source": [
    "aqi_data.head()"
   ]
  },
  {
   "cell_type": "markdown",
   "id": "22a98e7f-daac-45b0-937b-f05ced77b487",
   "metadata": {},
   "source": [
    "# change datetime to datetime datatype"
   ]
  },
  {
   "cell_type": "code",
   "execution_count": 314,
   "id": "dd93db90-51c4-4368-8836-5bd459657852",
   "metadata": {},
   "outputs": [],
   "source": [
    "#change the data type of \n",
    "aqi_data[\"datetime\"]=aqi_data[\"datetime\"].apply(lambda x:datetime.datetime.strptime(x,\"%d/%m/%Y\"))"
   ]
  },
  {
   "cell_type": "code",
   "execution_count": 315,
   "id": "d098f549-64bf-483d-bfef-fe55170a3b33",
   "metadata": {},
   "outputs": [
    {
     "data": {
      "text/plain": [
       "dtype('<M8[ns]')"
      ]
     },
     "execution_count": 315,
     "metadata": {},
     "output_type": "execute_result"
    }
   ],
   "source": [
    "aqi_data[\"datetime\"].dtype"
   ]
  },
  {
   "cell_type": "markdown",
   "id": "5f24c539-0bb8-4692-a13d-a91864e88e37",
   "metadata": {},
   "source": [
    "# Combine weather and aqi data"
   ]
  },
  {
   "cell_type": "code",
   "execution_count": 446,
   "id": "d8b654bc-437d-4beb-a958-ab43e3f12f32",
   "metadata": {},
   "outputs": [],
   "source": [
    "combined_training_data=weather_training_data.merge(aqi_data,on=\"datetime\", how=\"outer\")"
   ]
  },
  {
   "cell_type": "code",
   "execution_count": 447,
   "id": "cb8ade22-0458-4156-8eba-237941eb446d",
   "metadata": {},
   "outputs": [
    {
     "data": {
      "text/html": [
       "<div>\n",
       "<style scoped>\n",
       "    .dataframe tbody tr th:only-of-type {\n",
       "        vertical-align: middle;\n",
       "    }\n",
       "\n",
       "    .dataframe tbody tr th {\n",
       "        vertical-align: top;\n",
       "    }\n",
       "\n",
       "    .dataframe thead th {\n",
       "        text-align: right;\n",
       "    }\n",
       "</style>\n",
       "<table border=\"1\" class=\"dataframe\">\n",
       "  <thead>\n",
       "    <tr style=\"text-align: right;\">\n",
       "      <th></th>\n",
       "      <th>datetime</th>\n",
       "      <th>datetimeEpoch</th>\n",
       "      <th>tempmax</th>\n",
       "      <th>tempmin</th>\n",
       "      <th>temp</th>\n",
       "      <th>feelslikemax</th>\n",
       "      <th>feelslikemin</th>\n",
       "      <th>feelslike</th>\n",
       "      <th>dew</th>\n",
       "      <th>humidity</th>\n",
       "      <th>...</th>\n",
       "      <th>sunriseEpoch</th>\n",
       "      <th>sunset</th>\n",
       "      <th>sunsetEpoch</th>\n",
       "      <th>moonphase</th>\n",
       "      <th>conditions</th>\n",
       "      <th>description</th>\n",
       "      <th>icon</th>\n",
       "      <th>stations</th>\n",
       "      <th>source</th>\n",
       "      <th>aqi</th>\n",
       "    </tr>\n",
       "  </thead>\n",
       "  <tbody>\n",
       "    <tr>\n",
       "      <th>0</th>\n",
       "      <td>2022-12-05</td>\n",
       "      <td>1.670170e+09</td>\n",
       "      <td>30.4</td>\n",
       "      <td>25.1</td>\n",
       "      <td>26.5</td>\n",
       "      <td>35.7</td>\n",
       "      <td>25.1</td>\n",
       "      <td>27.6</td>\n",
       "      <td>24.3</td>\n",
       "      <td>88.0</td>\n",
       "      <td>...</td>\n",
       "      <td>1.670194e+09</td>\n",
       "      <td>18:56:37</td>\n",
       "      <td>1.670238e+09</td>\n",
       "      <td>0.47</td>\n",
       "      <td>Rain, Partially cloudy</td>\n",
       "      <td>Partly cloudy throughout the day with rain.</td>\n",
       "      <td>rain</td>\n",
       "      <td>[48698099999, 48679099999, WSAP, 48694099999, ...</td>\n",
       "      <td>obs</td>\n",
       "      <td>NaN</td>\n",
       "    </tr>\n",
       "  </tbody>\n",
       "</table>\n",
       "<p>1 rows × 37 columns</p>\n",
       "</div>"
      ],
      "text/plain": [
       "    datetime  datetimeEpoch  tempmax  tempmin  temp  feelslikemax  \\\n",
       "0 2022-12-05   1.670170e+09     30.4     25.1  26.5          35.7   \n",
       "\n",
       "   feelslikemin  feelslike   dew  humidity  ...  sunriseEpoch    sunset  \\\n",
       "0          25.1       27.6  24.3      88.0  ...  1.670194e+09  18:56:37   \n",
       "\n",
       "    sunsetEpoch moonphase              conditions  \\\n",
       "0  1.670238e+09      0.47  Rain, Partially cloudy   \n",
       "\n",
       "                                   description  icon  \\\n",
       "0  Partly cloudy throughout the day with rain.  rain   \n",
       "\n",
       "                                            stations  source  aqi  \n",
       "0  [48698099999, 48679099999, WSAP, 48694099999, ...     obs  NaN  \n",
       "\n",
       "[1 rows x 37 columns]"
      ]
     },
     "execution_count": 447,
     "metadata": {},
     "output_type": "execute_result"
    }
   ],
   "source": [
    "combined_training_data.head(1)"
   ]
  },
  {
   "cell_type": "code",
   "execution_count": 448,
   "id": "9d56867f-9984-43ab-9515-6a41b94f2a45",
   "metadata": {},
   "outputs": [],
   "source": [
    "combined_training_data=combined_training_data.sort_values(by=\"datetime\")"
   ]
  },
  {
   "cell_type": "markdown",
   "id": "30615d07-186a-463f-8e72-80dc222a8572",
   "metadata": {},
   "source": [
    "# Shift aqi columns to include 7 historical aqi for each row"
   ]
  },
  {
   "cell_type": "code",
   "execution_count": 449,
   "id": "a26ca65a-8ec9-4de6-b211-c7e78a446222",
   "metadata": {},
   "outputs": [],
   "source": [
    "combined_training_data[\"aqi_1\"]=combined_training_data[\"aqi\"].shift(1)\n",
    "combined_training_data[\"aqi_2\"]=combined_training_data[\"aqi\"].shift(2)\n",
    "combined_training_data[\"aqi_3\"]=combined_training_data[\"aqi\"].shift(3)\n",
    "combined_training_data[\"aqi_4\"]=combined_training_data[\"aqi\"].shift(4)\n",
    "combined_training_data[\"aqi_5\"]=combined_training_data[\"aqi\"].shift(5)\n",
    "combined_training_data[\"aqi_6\"]=combined_training_data[\"aqi\"].shift(6)\n",
    "combined_training_data[\"aqi_7\"]=combined_training_data[\"aqi\"].shift(7)"
   ]
  },
  {
   "cell_type": "code",
   "execution_count": 450,
   "id": "78b57afb-58d2-48d3-84f0-41b151c8bbde",
   "metadata": {},
   "outputs": [
    {
     "data": {
      "text/html": [
       "<div>\n",
       "<style scoped>\n",
       "    .dataframe tbody tr th:only-of-type {\n",
       "        vertical-align: middle;\n",
       "    }\n",
       "\n",
       "    .dataframe tbody tr th {\n",
       "        vertical-align: top;\n",
       "    }\n",
       "\n",
       "    .dataframe thead th {\n",
       "        text-align: right;\n",
       "    }\n",
       "</style>\n",
       "<table border=\"1\" class=\"dataframe\">\n",
       "  <thead>\n",
       "    <tr style=\"text-align: right;\">\n",
       "      <th></th>\n",
       "      <th>datetime</th>\n",
       "      <th>datetimeEpoch</th>\n",
       "      <th>tempmax</th>\n",
       "      <th>tempmin</th>\n",
       "      <th>temp</th>\n",
       "      <th>feelslikemax</th>\n",
       "      <th>feelslikemin</th>\n",
       "      <th>feelslike</th>\n",
       "      <th>dew</th>\n",
       "      <th>humidity</th>\n",
       "      <th>...</th>\n",
       "      <th>stations</th>\n",
       "      <th>source</th>\n",
       "      <th>aqi</th>\n",
       "      <th>aqi_1</th>\n",
       "      <th>aqi_2</th>\n",
       "      <th>aqi_3</th>\n",
       "      <th>aqi_4</th>\n",
       "      <th>aqi_5</th>\n",
       "      <th>aqi_6</th>\n",
       "      <th>aqi_7</th>\n",
       "    </tr>\n",
       "  </thead>\n",
       "  <tbody>\n",
       "    <tr>\n",
       "      <th>37</th>\n",
       "      <td>2023-01-11</td>\n",
       "      <td>1.673366e+09</td>\n",
       "      <td>29.4</td>\n",
       "      <td>25.0</td>\n",
       "      <td>26.0</td>\n",
       "      <td>33.4</td>\n",
       "      <td>25.0</td>\n",
       "      <td>26.6</td>\n",
       "      <td>23.4</td>\n",
       "      <td>85.7</td>\n",
       "      <td>...</td>\n",
       "      <td>[48698099999, 48679099999, WSAP, 48694099999, ...</td>\n",
       "      <td>obs</td>\n",
       "      <td>59.0</td>\n",
       "      <td>72.0</td>\n",
       "      <td>54.0</td>\n",
       "      <td>41.0</td>\n",
       "      <td>38.0</td>\n",
       "      <td>46.0</td>\n",
       "      <td>46.0</td>\n",
       "      <td>26.0</td>\n",
       "    </tr>\n",
       "    <tr>\n",
       "      <th>38</th>\n",
       "      <td>2023-01-12</td>\n",
       "      <td>1.673453e+09</td>\n",
       "      <td>32.4</td>\n",
       "      <td>24.0</td>\n",
       "      <td>27.6</td>\n",
       "      <td>36.8</td>\n",
       "      <td>24.0</td>\n",
       "      <td>29.7</td>\n",
       "      <td>22.8</td>\n",
       "      <td>76.6</td>\n",
       "      <td>...</td>\n",
       "      <td>[48698099999, 48679099999, WSAP, 48694099999, ...</td>\n",
       "      <td>obs</td>\n",
       "      <td>57.0</td>\n",
       "      <td>59.0</td>\n",
       "      <td>72.0</td>\n",
       "      <td>54.0</td>\n",
       "      <td>41.0</td>\n",
       "      <td>38.0</td>\n",
       "      <td>46.0</td>\n",
       "      <td>46.0</td>\n",
       "    </tr>\n",
       "    <tr>\n",
       "      <th>39</th>\n",
       "      <td>2023-01-13</td>\n",
       "      <td>1.673539e+09</td>\n",
       "      <td>31.2</td>\n",
       "      <td>15.3</td>\n",
       "      <td>26.0</td>\n",
       "      <td>36.3</td>\n",
       "      <td>15.3</td>\n",
       "      <td>27.1</td>\n",
       "      <td>23.2</td>\n",
       "      <td>85.2</td>\n",
       "      <td>...</td>\n",
       "      <td>[48698099999, EUCDE37, 48679099999, WSAP, 4869...</td>\n",
       "      <td>obs</td>\n",
       "      <td>54.0</td>\n",
       "      <td>57.0</td>\n",
       "      <td>59.0</td>\n",
       "      <td>72.0</td>\n",
       "      <td>54.0</td>\n",
       "      <td>41.0</td>\n",
       "      <td>38.0</td>\n",
       "      <td>46.0</td>\n",
       "    </tr>\n",
       "    <tr>\n",
       "      <th>40</th>\n",
       "      <td>2023-01-14</td>\n",
       "      <td>1.673626e+09</td>\n",
       "      <td>30.9</td>\n",
       "      <td>11.2</td>\n",
       "      <td>25.7</td>\n",
       "      <td>36.4</td>\n",
       "      <td>11.2</td>\n",
       "      <td>27.3</td>\n",
       "      <td>22.8</td>\n",
       "      <td>84.8</td>\n",
       "      <td>...</td>\n",
       "      <td>[EUCDE37, WSAP, WSSS, WIDD, WSSL, WMKJ]</td>\n",
       "      <td>obs</td>\n",
       "      <td>65.0</td>\n",
       "      <td>54.0</td>\n",
       "      <td>57.0</td>\n",
       "      <td>59.0</td>\n",
       "      <td>72.0</td>\n",
       "      <td>54.0</td>\n",
       "      <td>41.0</td>\n",
       "      <td>38.0</td>\n",
       "    </tr>\n",
       "    <tr>\n",
       "      <th>41</th>\n",
       "      <td>2023-01-15</td>\n",
       "      <td>NaN</td>\n",
       "      <td>NaN</td>\n",
       "      <td>NaN</td>\n",
       "      <td>NaN</td>\n",
       "      <td>NaN</td>\n",
       "      <td>NaN</td>\n",
       "      <td>NaN</td>\n",
       "      <td>NaN</td>\n",
       "      <td>NaN</td>\n",
       "      <td>...</td>\n",
       "      <td>NaN</td>\n",
       "      <td>NaN</td>\n",
       "      <td>65.0</td>\n",
       "      <td>65.0</td>\n",
       "      <td>54.0</td>\n",
       "      <td>57.0</td>\n",
       "      <td>59.0</td>\n",
       "      <td>72.0</td>\n",
       "      <td>54.0</td>\n",
       "      <td>41.0</td>\n",
       "    </tr>\n",
       "  </tbody>\n",
       "</table>\n",
       "<p>5 rows × 44 columns</p>\n",
       "</div>"
      ],
      "text/plain": [
       "     datetime  datetimeEpoch  tempmax  tempmin  temp  feelslikemax  \\\n",
       "37 2023-01-11   1.673366e+09     29.4     25.0  26.0          33.4   \n",
       "38 2023-01-12   1.673453e+09     32.4     24.0  27.6          36.8   \n",
       "39 2023-01-13   1.673539e+09     31.2     15.3  26.0          36.3   \n",
       "40 2023-01-14   1.673626e+09     30.9     11.2  25.7          36.4   \n",
       "41 2023-01-15            NaN      NaN      NaN   NaN           NaN   \n",
       "\n",
       "    feelslikemin  feelslike   dew  humidity  ...  \\\n",
       "37          25.0       26.6  23.4      85.7  ...   \n",
       "38          24.0       29.7  22.8      76.6  ...   \n",
       "39          15.3       27.1  23.2      85.2  ...   \n",
       "40          11.2       27.3  22.8      84.8  ...   \n",
       "41           NaN        NaN   NaN       NaN  ...   \n",
       "\n",
       "                                             stations  source   aqi aqi_1  \\\n",
       "37  [48698099999, 48679099999, WSAP, 48694099999, ...     obs  59.0  72.0   \n",
       "38  [48698099999, 48679099999, WSAP, 48694099999, ...     obs  57.0  59.0   \n",
       "39  [48698099999, EUCDE37, 48679099999, WSAP, 4869...     obs  54.0  57.0   \n",
       "40            [EUCDE37, WSAP, WSSS, WIDD, WSSL, WMKJ]     obs  65.0  54.0   \n",
       "41                                                NaN     NaN  65.0  65.0   \n",
       "\n",
       "    aqi_2 aqi_3  aqi_4  aqi_5  aqi_6  aqi_7  \n",
       "37   54.0  41.0   38.0   46.0   46.0   26.0  \n",
       "38   72.0  54.0   41.0   38.0   46.0   46.0  \n",
       "39   59.0  72.0   54.0   41.0   38.0   46.0  \n",
       "40   57.0  59.0   72.0   54.0   41.0   38.0  \n",
       "41   54.0  57.0   59.0   72.0   54.0   41.0  \n",
       "\n",
       "[5 rows x 44 columns]"
      ]
     },
     "execution_count": 450,
     "metadata": {},
     "output_type": "execute_result"
    }
   ],
   "source": [
    "combined_training_data.tail()"
   ]
  },
  {
   "cell_type": "markdown",
   "id": "7824c24c-1ac0-414a-aec7-72a1e3a105a1",
   "metadata": {},
   "source": [
    "# Drop unnecessary columns"
   ]
  },
  {
   "cell_type": "code",
   "execution_count": 451,
   "id": "f038b08b-c9ad-431e-9fbc-ace71c1fd32e",
   "metadata": {},
   "outputs": [],
   "source": [
    "combined_training_data=combined_training_data.dropna(subset=[f\"aqi_{i}\" for i in range(1,8)],how=\"any\",axis=\"rows\")"
   ]
  },
  {
   "cell_type": "code",
   "execution_count": 452,
   "id": "8db05d45-9d51-4701-8366-9ad23630b003",
   "metadata": {},
   "outputs": [
    {
     "data": {
      "text/html": [
       "<div>\n",
       "<style scoped>\n",
       "    .dataframe tbody tr th:only-of-type {\n",
       "        vertical-align: middle;\n",
       "    }\n",
       "\n",
       "    .dataframe tbody tr th {\n",
       "        vertical-align: top;\n",
       "    }\n",
       "\n",
       "    .dataframe thead th {\n",
       "        text-align: right;\n",
       "    }\n",
       "</style>\n",
       "<table border=\"1\" class=\"dataframe\">\n",
       "  <thead>\n",
       "    <tr style=\"text-align: right;\">\n",
       "      <th></th>\n",
       "      <th>datetime</th>\n",
       "      <th>datetimeEpoch</th>\n",
       "      <th>tempmax</th>\n",
       "      <th>tempmin</th>\n",
       "      <th>temp</th>\n",
       "      <th>feelslikemax</th>\n",
       "      <th>feelslikemin</th>\n",
       "      <th>feelslike</th>\n",
       "      <th>dew</th>\n",
       "      <th>humidity</th>\n",
       "      <th>...</th>\n",
       "      <th>stations</th>\n",
       "      <th>source</th>\n",
       "      <th>aqi</th>\n",
       "      <th>aqi_1</th>\n",
       "      <th>aqi_2</th>\n",
       "      <th>aqi_3</th>\n",
       "      <th>aqi_4</th>\n",
       "      <th>aqi_5</th>\n",
       "      <th>aqi_6</th>\n",
       "      <th>aqi_7</th>\n",
       "    </tr>\n",
       "  </thead>\n",
       "  <tbody>\n",
       "    <tr>\n",
       "      <th>41</th>\n",
       "      <td>2023-01-15</td>\n",
       "      <td>NaN</td>\n",
       "      <td>NaN</td>\n",
       "      <td>NaN</td>\n",
       "      <td>NaN</td>\n",
       "      <td>NaN</td>\n",
       "      <td>NaN</td>\n",
       "      <td>NaN</td>\n",
       "      <td>NaN</td>\n",
       "      <td>NaN</td>\n",
       "      <td>...</td>\n",
       "      <td>NaN</td>\n",
       "      <td>NaN</td>\n",
       "      <td>65.0</td>\n",
       "      <td>65.0</td>\n",
       "      <td>54.0</td>\n",
       "      <td>57.0</td>\n",
       "      <td>59.0</td>\n",
       "      <td>72.0</td>\n",
       "      <td>54.0</td>\n",
       "      <td>41.0</td>\n",
       "    </tr>\n",
       "  </tbody>\n",
       "</table>\n",
       "<p>1 rows × 44 columns</p>\n",
       "</div>"
      ],
      "text/plain": [
       "     datetime  datetimeEpoch  tempmax  tempmin  temp  feelslikemax  \\\n",
       "41 2023-01-15            NaN      NaN      NaN   NaN           NaN   \n",
       "\n",
       "    feelslikemin  feelslike  dew  humidity  ...  stations  source   aqi aqi_1  \\\n",
       "41           NaN        NaN  NaN       NaN  ...       NaN     NaN  65.0  65.0   \n",
       "\n",
       "    aqi_2 aqi_3  aqi_4  aqi_5  aqi_6  aqi_7  \n",
       "41   54.0  57.0   59.0   72.0   54.0   41.0  \n",
       "\n",
       "[1 rows x 44 columns]"
      ]
     },
     "execution_count": 452,
     "metadata": {},
     "output_type": "execute_result"
    }
   ],
   "source": [
    "combined_training_data.tail(1)"
   ]
  },
  {
   "cell_type": "code",
   "execution_count": 453,
   "id": "ff785e46-e1a5-4fd8-acd3-99149e28bddd",
   "metadata": {},
   "outputs": [],
   "source": [
    "combined_training_data=combined_training_data.reset_index()"
   ]
  },
  {
   "cell_type": "code",
   "execution_count": 454,
   "id": "cdab5bd3-869c-4b3f-8736-db9bf3827fd0",
   "metadata": {},
   "outputs": [],
   "source": [
    "#drop today's data\n",
    "combined_training_data=combined_training_data.drop([len(combined_training_data)-1],axis=0)"
   ]
  },
  {
   "cell_type": "code",
   "execution_count": 455,
   "id": "72b3b392-1c64-4768-8d80-8e77ebc1fd08",
   "metadata": {},
   "outputs": [],
   "source": [
    "columns_to_drop=[\"index\",\"datetime\",\"datetimeEpoch\",\"preciptype\",\"snowdepth\",\"sunrise\",\"sunset\",\"icon\",\"stations\",\"source\",\"description\",\"conditions\"]"
   ]
  },
  {
   "cell_type": "code",
   "execution_count": 456,
   "id": "f6aeabfe-aae0-49c1-90b4-bae851c2d026",
   "metadata": {},
   "outputs": [],
   "source": [
    "combined_training_data=combined_training_data.drop(columns_to_drop,axis=1)"
   ]
  },
  {
   "cell_type": "code",
   "execution_count": 457,
   "id": "f093c04c-6f67-493b-8e18-bd894d830f03",
   "metadata": {},
   "outputs": [],
   "source": [
    "y_train=combined_training_data.aqi"
   ]
  },
  {
   "cell_type": "code",
   "execution_count": 458,
   "id": "972219b0-84b9-4573-837c-941a48d7371f",
   "metadata": {},
   "outputs": [],
   "source": [
    "combined_training_data=combined_training_data.drop([\"aqi\"],axis=1)"
   ]
  },
  {
   "cell_type": "code",
   "execution_count": 459,
   "id": "c0200855-3b5d-4111-8511-84018918e5c1",
   "metadata": {},
   "outputs": [
    {
     "data": {
      "text/html": [
       "<div>\n",
       "<style scoped>\n",
       "    .dataframe tbody tr th:only-of-type {\n",
       "        vertical-align: middle;\n",
       "    }\n",
       "\n",
       "    .dataframe tbody tr th {\n",
       "        vertical-align: top;\n",
       "    }\n",
       "\n",
       "    .dataframe thead th {\n",
       "        text-align: right;\n",
       "    }\n",
       "</style>\n",
       "<table border=\"1\" class=\"dataframe\">\n",
       "  <thead>\n",
       "    <tr style=\"text-align: right;\">\n",
       "      <th></th>\n",
       "      <th>tempmax</th>\n",
       "      <th>tempmin</th>\n",
       "      <th>temp</th>\n",
       "      <th>feelslikemax</th>\n",
       "      <th>feelslikemin</th>\n",
       "      <th>feelslike</th>\n",
       "      <th>dew</th>\n",
       "      <th>humidity</th>\n",
       "      <th>precip</th>\n",
       "      <th>precipprob</th>\n",
       "      <th>...</th>\n",
       "      <th>sunriseEpoch</th>\n",
       "      <th>sunsetEpoch</th>\n",
       "      <th>moonphase</th>\n",
       "      <th>aqi_1</th>\n",
       "      <th>aqi_2</th>\n",
       "      <th>aqi_3</th>\n",
       "      <th>aqi_4</th>\n",
       "      <th>aqi_5</th>\n",
       "      <th>aqi_6</th>\n",
       "      <th>aqi_7</th>\n",
       "    </tr>\n",
       "  </thead>\n",
       "  <tbody>\n",
       "    <tr>\n",
       "      <th>21</th>\n",
       "      <td>30.9</td>\n",
       "      <td>11.2</td>\n",
       "      <td>25.7</td>\n",
       "      <td>36.4</td>\n",
       "      <td>11.2</td>\n",
       "      <td>27.3</td>\n",
       "      <td>22.8</td>\n",
       "      <td>84.8</td>\n",
       "      <td>12.3</td>\n",
       "      <td>100.0</td>\n",
       "      <td>...</td>\n",
       "      <td>1.673652e+09</td>\n",
       "      <td>1.673695e+09</td>\n",
       "      <td>0.72</td>\n",
       "      <td>54.0</td>\n",
       "      <td>57.0</td>\n",
       "      <td>59.0</td>\n",
       "      <td>72.0</td>\n",
       "      <td>54.0</td>\n",
       "      <td>41.0</td>\n",
       "      <td>38.0</td>\n",
       "    </tr>\n",
       "  </tbody>\n",
       "</table>\n",
       "<p>1 rows × 32 columns</p>\n",
       "</div>"
      ],
      "text/plain": [
       "    tempmax  tempmin  temp  feelslikemax  feelslikemin  feelslike   dew  \\\n",
       "21     30.9     11.2  25.7          36.4          11.2       27.3  22.8   \n",
       "\n",
       "    humidity  precip  precipprob  ...  sunriseEpoch   sunsetEpoch  moonphase  \\\n",
       "21      84.8    12.3       100.0  ...  1.673652e+09  1.673695e+09       0.72   \n",
       "\n",
       "    aqi_1  aqi_2  aqi_3  aqi_4  aqi_5  aqi_6  aqi_7  \n",
       "21   54.0   57.0   59.0   72.0   54.0   41.0   38.0  \n",
       "\n",
       "[1 rows x 32 columns]"
      ]
     },
     "execution_count": 459,
     "metadata": {},
     "output_type": "execute_result"
    }
   ],
   "source": [
    "combined_training_data.tail(1)"
   ]
  },
  {
   "cell_type": "markdown",
   "id": "e434f247-dc92-4c0b-a262-b27460fee22a",
   "metadata": {
    "tags": []
   },
   "source": [
    "# Train model"
   ]
  },
  {
   "cell_type": "code",
   "execution_count": 460,
   "id": "fd7aa5ee-6b87-4973-8632-d9c7105b5b6a",
   "metadata": {},
   "outputs": [],
   "source": [
    "from xgboost import XGBRegressor"
   ]
  },
  {
   "cell_type": "code",
   "execution_count": 461,
   "id": "93fd0817-f69d-40a6-aaf3-9df51cceb037",
   "metadata": {},
   "outputs": [],
   "source": [
    "x_train=combined_training_data"
   ]
  },
  {
   "cell_type": "code",
   "execution_count": 462,
   "id": "f4f45a74-1c0b-4d4f-8159-109b49e5f487",
   "metadata": {},
   "outputs": [
    {
     "data": {
      "text/html": [
       "<style>#sk-container-id-4 {color: black;background-color: white;}#sk-container-id-4 pre{padding: 0;}#sk-container-id-4 div.sk-toggleable {background-color: white;}#sk-container-id-4 label.sk-toggleable__label {cursor: pointer;display: block;width: 100%;margin-bottom: 0;padding: 0.3em;box-sizing: border-box;text-align: center;}#sk-container-id-4 label.sk-toggleable__label-arrow:before {content: \"▸\";float: left;margin-right: 0.25em;color: #696969;}#sk-container-id-4 label.sk-toggleable__label-arrow:hover:before {color: black;}#sk-container-id-4 div.sk-estimator:hover label.sk-toggleable__label-arrow:before {color: black;}#sk-container-id-4 div.sk-toggleable__content {max-height: 0;max-width: 0;overflow: hidden;text-align: left;background-color: #f0f8ff;}#sk-container-id-4 div.sk-toggleable__content pre {margin: 0.2em;color: black;border-radius: 0.25em;background-color: #f0f8ff;}#sk-container-id-4 input.sk-toggleable__control:checked~div.sk-toggleable__content {max-height: 200px;max-width: 100%;overflow: auto;}#sk-container-id-4 input.sk-toggleable__control:checked~label.sk-toggleable__label-arrow:before {content: \"▾\";}#sk-container-id-4 div.sk-estimator input.sk-toggleable__control:checked~label.sk-toggleable__label {background-color: #d4ebff;}#sk-container-id-4 div.sk-label input.sk-toggleable__control:checked~label.sk-toggleable__label {background-color: #d4ebff;}#sk-container-id-4 input.sk-hidden--visually {border: 0;clip: rect(1px 1px 1px 1px);clip: rect(1px, 1px, 1px, 1px);height: 1px;margin: -1px;overflow: hidden;padding: 0;position: absolute;width: 1px;}#sk-container-id-4 div.sk-estimator {font-family: monospace;background-color: #f0f8ff;border: 1px dotted black;border-radius: 0.25em;box-sizing: border-box;margin-bottom: 0.5em;}#sk-container-id-4 div.sk-estimator:hover {background-color: #d4ebff;}#sk-container-id-4 div.sk-parallel-item::after {content: \"\";width: 100%;border-bottom: 1px solid gray;flex-grow: 1;}#sk-container-id-4 div.sk-label:hover label.sk-toggleable__label {background-color: #d4ebff;}#sk-container-id-4 div.sk-serial::before {content: \"\";position: absolute;border-left: 1px solid gray;box-sizing: border-box;top: 0;bottom: 0;left: 50%;z-index: 0;}#sk-container-id-4 div.sk-serial {display: flex;flex-direction: column;align-items: center;background-color: white;padding-right: 0.2em;padding-left: 0.2em;position: relative;}#sk-container-id-4 div.sk-item {position: relative;z-index: 1;}#sk-container-id-4 div.sk-parallel {display: flex;align-items: stretch;justify-content: center;background-color: white;position: relative;}#sk-container-id-4 div.sk-item::before, #sk-container-id-4 div.sk-parallel-item::before {content: \"\";position: absolute;border-left: 1px solid gray;box-sizing: border-box;top: 0;bottom: 0;left: 50%;z-index: -1;}#sk-container-id-4 div.sk-parallel-item {display: flex;flex-direction: column;z-index: 1;position: relative;background-color: white;}#sk-container-id-4 div.sk-parallel-item:first-child::after {align-self: flex-end;width: 50%;}#sk-container-id-4 div.sk-parallel-item:last-child::after {align-self: flex-start;width: 50%;}#sk-container-id-4 div.sk-parallel-item:only-child::after {width: 0;}#sk-container-id-4 div.sk-dashed-wrapped {border: 1px dashed gray;margin: 0 0.4em 0.5em 0.4em;box-sizing: border-box;padding-bottom: 0.4em;background-color: white;}#sk-container-id-4 div.sk-label label {font-family: monospace;font-weight: bold;display: inline-block;line-height: 1.2em;}#sk-container-id-4 div.sk-label-container {text-align: center;}#sk-container-id-4 div.sk-container {/* jupyter's `normalize.less` sets `[hidden] { display: none; }` but bootstrap.min.css set `[hidden] { display: none !important; }` so we also need the `!important` here to be able to override the default hidden behavior on the sphinx rendered scikit-learn.org. See: https://github.com/scikit-learn/scikit-learn/issues/21755 */display: inline-block !important;position: relative;}#sk-container-id-4 div.sk-text-repr-fallback {display: none;}</style><div id=\"sk-container-id-4\" class=\"sk-top-container\"><div class=\"sk-text-repr-fallback\"><pre>XGBRegressor(base_score=None, booster=None, callbacks=None,\n",
       "             colsample_bylevel=None, colsample_bynode=None,\n",
       "             colsample_bytree=None, early_stopping_rounds=None,\n",
       "             enable_categorical=False, eval_metric=None, feature_types=None,\n",
       "             gamma=None, gpu_id=None, grow_policy=None, importance_type=None,\n",
       "             interaction_constraints=None, learning_rate=None, max_bin=None,\n",
       "             max_cat_threshold=None, max_cat_to_onehot=None,\n",
       "             max_delta_step=None, max_depth=None, max_leaves=None,\n",
       "             min_child_weight=None, missing=nan, monotone_constraints=None,\n",
       "             n_estimators=100, n_jobs=None, num_parallel_tree=None,\n",
       "             predictor=None, random_state=None, ...)</pre><b>In a Jupyter environment, please rerun this cell to show the HTML representation or trust the notebook. <br />On GitHub, the HTML representation is unable to render, please try loading this page with nbviewer.org.</b></div><div class=\"sk-container\" hidden><div class=\"sk-item\"><div class=\"sk-estimator sk-toggleable\"><input class=\"sk-toggleable__control sk-hidden--visually\" id=\"sk-estimator-id-4\" type=\"checkbox\" checked><label for=\"sk-estimator-id-4\" class=\"sk-toggleable__label sk-toggleable__label-arrow\">XGBRegressor</label><div class=\"sk-toggleable__content\"><pre>XGBRegressor(base_score=None, booster=None, callbacks=None,\n",
       "             colsample_bylevel=None, colsample_bynode=None,\n",
       "             colsample_bytree=None, early_stopping_rounds=None,\n",
       "             enable_categorical=False, eval_metric=None, feature_types=None,\n",
       "             gamma=None, gpu_id=None, grow_policy=None, importance_type=None,\n",
       "             interaction_constraints=None, learning_rate=None, max_bin=None,\n",
       "             max_cat_threshold=None, max_cat_to_onehot=None,\n",
       "             max_delta_step=None, max_depth=None, max_leaves=None,\n",
       "             min_child_weight=None, missing=nan, monotone_constraints=None,\n",
       "             n_estimators=100, n_jobs=None, num_parallel_tree=None,\n",
       "             predictor=None, random_state=None, ...)</pre></div></div></div></div></div>"
      ],
      "text/plain": [
       "XGBRegressor(base_score=None, booster=None, callbacks=None,\n",
       "             colsample_bylevel=None, colsample_bynode=None,\n",
       "             colsample_bytree=None, early_stopping_rounds=None,\n",
       "             enable_categorical=False, eval_metric=None, feature_types=None,\n",
       "             gamma=None, gpu_id=None, grow_policy=None, importance_type=None,\n",
       "             interaction_constraints=None, learning_rate=None, max_bin=None,\n",
       "             max_cat_threshold=None, max_cat_to_onehot=None,\n",
       "             max_delta_step=None, max_depth=None, max_leaves=None,\n",
       "             min_child_weight=None, missing=nan, monotone_constraints=None,\n",
       "             n_estimators=100, n_jobs=None, num_parallel_tree=None,\n",
       "             predictor=None, random_state=None, ...)"
      ]
     },
     "execution_count": 462,
     "metadata": {},
     "output_type": "execute_result"
    }
   ],
   "source": [
    "model=XGBRegressor()\n",
    "model.fit(x_train,y_train)"
   ]
  },
  {
   "cell_type": "code",
   "execution_count": 463,
   "id": "07f2ab06-bdb3-485b-b1e2-1dd76c9a4e21",
   "metadata": {},
   "outputs": [],
   "source": [
    "from sklearn.metrics import mean_squared_error as MSE"
   ]
  },
  {
   "cell_type": "code",
   "execution_count": 464,
   "id": "fb4b1c9d-6684-40d3-a794-4d803136fcf8",
   "metadata": {},
   "outputs": [
    {
     "data": {
      "text/plain": [
       "1.9686128573746167e-07"
      ]
     },
     "execution_count": 464,
     "metadata": {},
     "output_type": "execute_result"
    }
   ],
   "source": [
    "MSE(y_train,model.predict(x_train))"
   ]
  },
  {
   "cell_type": "code",
   "execution_count": 465,
   "id": "4d4514d8-e25d-41ae-aeb6-0bc21b4092ba",
   "metadata": {},
   "outputs": [
    {
     "data": {
      "text/plain": [
       "array([56.999176, 45.00005 , 46.00028 , 51.00036 , 55.00015 , 59.999874,\n",
       "       60.99955 , 56.999836, 58.99983 , 60.      , 31.001062, 26.000216,\n",
       "       46.000237, 46.000248, 37.99987 , 41.000336, 53.999718, 71.99881 ,\n",
       "       59.00005 , 57.000233, 54.000317, 64.99973 ], dtype=float32)"
      ]
     },
     "execution_count": 465,
     "metadata": {},
     "output_type": "execute_result"
    }
   ],
   "source": [
    "model.predict(x_train)"
   ]
  },
  {
   "cell_type": "code",
   "execution_count": 466,
   "id": "856193a0-d05a-4081-9de1-4f0356799be5",
   "metadata": {},
   "outputs": [
    {
     "data": {
      "text/plain": [
       "0     57.0\n",
       "1     45.0\n",
       "2     46.0\n",
       "3     51.0\n",
       "4     55.0\n",
       "5     60.0\n",
       "6     61.0\n",
       "7     57.0\n",
       "8     59.0\n",
       "9     60.0\n",
       "10    31.0\n",
       "11    26.0\n",
       "12    46.0\n",
       "13    46.0\n",
       "14    38.0\n",
       "15    41.0\n",
       "16    54.0\n",
       "17    72.0\n",
       "18    59.0\n",
       "19    57.0\n",
       "20    54.0\n",
       "21    65.0\n",
       "Name: aqi, dtype: float64"
      ]
     },
     "execution_count": 466,
     "metadata": {},
     "output_type": "execute_result"
    }
   ],
   "source": [
    "y_train"
   ]
  },
  {
   "cell_type": "code",
   "execution_count": 511,
   "id": "2c64e99e-20dd-4fcf-93a6-60d9ec2669e0",
   "metadata": {},
   "outputs": [],
   "source": [
    "def feature_engineering(data,prev_aqi):\n",
    "    n=len(data)\n",
    "    \n",
    "    prev_aqi=pd.concat([prev_aqi for i in range(n)],axis=0)\n",
    "    prev_aqi=prev_aqi.reset_index()\n",
    "    prev_aqi=prev_aqi.drop([\"index\"],axis=1)\n",
    "    print(prev_aqi)\n",
    "    comb=pd.concat([data,prev_aqi],axis=1)\n",
    "    columns_to_drop=[\"datetime\",\"datetimeEpoch\",\"preciptype\",\"snowdepth\",\"sunrise\",\"sunset\",\"icon\",\"stations\",\"source\",\"description\",\"conditions\"]\n",
    "    comb=comb.drop(columns_to_drop,axis=1)\n",
    "    return comb"
   ]
  },
  {
   "cell_type": "code",
   "execution_count": 499,
   "id": "2e4db84f-b0bf-45cd-ad0d-3bc8395938af",
   "metadata": {},
   "outputs": [],
   "source": [
    "x=pd.DataFrame({\"A\":[1]})"
   ]
  },
  {
   "cell_type": "code",
   "execution_count": 500,
   "id": "402e6360-5132-4e5e-a00e-ef73000239da",
   "metadata": {},
   "outputs": [
    {
     "data": {
      "text/html": [
       "<div>\n",
       "<style scoped>\n",
       "    .dataframe tbody tr th:only-of-type {\n",
       "        vertical-align: middle;\n",
       "    }\n",
       "\n",
       "    .dataframe tbody tr th {\n",
       "        vertical-align: top;\n",
       "    }\n",
       "\n",
       "    .dataframe thead th {\n",
       "        text-align: right;\n",
       "    }\n",
       "</style>\n",
       "<table border=\"1\" class=\"dataframe\">\n",
       "  <thead>\n",
       "    <tr style=\"text-align: right;\">\n",
       "      <th></th>\n",
       "      <th>A</th>\n",
       "      <th>A</th>\n",
       "    </tr>\n",
       "  </thead>\n",
       "  <tbody>\n",
       "    <tr>\n",
       "      <th>0</th>\n",
       "      <td>1</td>\n",
       "      <td>1</td>\n",
       "    </tr>\n",
       "  </tbody>\n",
       "</table>\n",
       "</div>"
      ],
      "text/plain": [
       "   A  A\n",
       "0  1  1"
      ]
     },
     "execution_count": 500,
     "metadata": {},
     "output_type": "execute_result"
    }
   ],
   "source": [
    "pd.concat([x,x],axis=1)"
   ]
  },
  {
   "cell_type": "code",
   "execution_count": 501,
   "id": "8398ac8f-2215-460b-b4f4-bb1b1527d720",
   "metadata": {},
   "outputs": [],
   "source": [
    "latest_aqi=x_train[[f\"aqi_{i}\" for i in range(1,8)]].tail(1)"
   ]
  },
  {
   "cell_type": "code",
   "execution_count": 502,
   "id": "bbe29f76-5c9d-448b-84e0-e53c42809efd",
   "metadata": {},
   "outputs": [
    {
     "data": {
      "text/html": [
       "<div>\n",
       "<style scoped>\n",
       "    .dataframe tbody tr th:only-of-type {\n",
       "        vertical-align: middle;\n",
       "    }\n",
       "\n",
       "    .dataframe tbody tr th {\n",
       "        vertical-align: top;\n",
       "    }\n",
       "\n",
       "    .dataframe thead th {\n",
       "        text-align: right;\n",
       "    }\n",
       "</style>\n",
       "<table border=\"1\" class=\"dataframe\">\n",
       "  <thead>\n",
       "    <tr style=\"text-align: right;\">\n",
       "      <th></th>\n",
       "      <th>aqi_1</th>\n",
       "      <th>aqi_2</th>\n",
       "      <th>aqi_3</th>\n",
       "      <th>aqi_4</th>\n",
       "      <th>aqi_5</th>\n",
       "      <th>aqi_6</th>\n",
       "      <th>aqi_7</th>\n",
       "    </tr>\n",
       "  </thead>\n",
       "  <tbody>\n",
       "    <tr>\n",
       "      <th>21</th>\n",
       "      <td>54.0</td>\n",
       "      <td>57.0</td>\n",
       "      <td>59.0</td>\n",
       "      <td>72.0</td>\n",
       "      <td>54.0</td>\n",
       "      <td>41.0</td>\n",
       "      <td>38.0</td>\n",
       "    </tr>\n",
       "    <tr>\n",
       "      <th>21</th>\n",
       "      <td>54.0</td>\n",
       "      <td>57.0</td>\n",
       "      <td>59.0</td>\n",
       "      <td>72.0</td>\n",
       "      <td>54.0</td>\n",
       "      <td>41.0</td>\n",
       "      <td>38.0</td>\n",
       "    </tr>\n",
       "  </tbody>\n",
       "</table>\n",
       "</div>"
      ],
      "text/plain": [
       "    aqi_1  aqi_2  aqi_3  aqi_4  aqi_5  aqi_6  aqi_7\n",
       "21   54.0   57.0   59.0   72.0   54.0   41.0   38.0\n",
       "21   54.0   57.0   59.0   72.0   54.0   41.0   38.0"
      ]
     },
     "execution_count": 502,
     "metadata": {},
     "output_type": "execute_result"
    }
   ],
   "source": [
    "pd.concat([latest_aqi,latest_aqi])"
   ]
  },
  {
   "cell_type": "code",
   "execution_count": 503,
   "id": "9e446ef3-0586-464d-b62b-c14fa2fc4b55",
   "metadata": {},
   "outputs": [
    {
     "data": {
      "text/html": [
       "<div>\n",
       "<style scoped>\n",
       "    .dataframe tbody tr th:only-of-type {\n",
       "        vertical-align: middle;\n",
       "    }\n",
       "\n",
       "    .dataframe tbody tr th {\n",
       "        vertical-align: top;\n",
       "    }\n",
       "\n",
       "    .dataframe thead th {\n",
       "        text-align: right;\n",
       "    }\n",
       "</style>\n",
       "<table border=\"1\" class=\"dataframe\">\n",
       "  <thead>\n",
       "    <tr style=\"text-align: right;\">\n",
       "      <th></th>\n",
       "      <th>datetime</th>\n",
       "      <th>datetimeEpoch</th>\n",
       "      <th>tempmax</th>\n",
       "      <th>tempmin</th>\n",
       "      <th>temp</th>\n",
       "      <th>feelslikemax</th>\n",
       "      <th>feelslikemin</th>\n",
       "      <th>feelslike</th>\n",
       "      <th>dew</th>\n",
       "      <th>humidity</th>\n",
       "      <th>...</th>\n",
       "      <th>sunrise</th>\n",
       "      <th>sunriseEpoch</th>\n",
       "      <th>sunset</th>\n",
       "      <th>sunsetEpoch</th>\n",
       "      <th>moonphase</th>\n",
       "      <th>conditions</th>\n",
       "      <th>description</th>\n",
       "      <th>icon</th>\n",
       "      <th>stations</th>\n",
       "      <th>source</th>\n",
       "    </tr>\n",
       "  </thead>\n",
       "  <tbody>\n",
       "    <tr>\n",
       "      <th>0</th>\n",
       "      <td>2023-01-15</td>\n",
       "      <td>1673712000</td>\n",
       "      <td>31.3</td>\n",
       "      <td>24.9</td>\n",
       "      <td>27.3</td>\n",
       "      <td>36.2</td>\n",
       "      <td>24.9</td>\n",
       "      <td>29.7</td>\n",
       "      <td>23.9</td>\n",
       "      <td>82.0</td>\n",
       "      <td>...</td>\n",
       "      <td>07:12:30</td>\n",
       "      <td>1673737950</td>\n",
       "      <td>19:15:27</td>\n",
       "      <td>1673781327</td>\n",
       "      <td>0.78</td>\n",
       "      <td>Rain, Partially cloudy</td>\n",
       "      <td>Partly cloudy throughout the day with storms p...</td>\n",
       "      <td>rain</td>\n",
       "      <td>[WSAP, WSSS, WIDD, WSSL, WMKJ]</td>\n",
       "      <td>comb</td>\n",
       "    </tr>\n",
       "    <tr>\n",
       "      <th>1</th>\n",
       "      <td>2023-01-16</td>\n",
       "      <td>1673798400</td>\n",
       "      <td>29.2</td>\n",
       "      <td>25.6</td>\n",
       "      <td>27.0</td>\n",
       "      <td>32.4</td>\n",
       "      <td>25.6</td>\n",
       "      <td>28.3</td>\n",
       "      <td>22.8</td>\n",
       "      <td>78.1</td>\n",
       "      <td>...</td>\n",
       "      <td>07:12:50</td>\n",
       "      <td>1673824370</td>\n",
       "      <td>19:15:50</td>\n",
       "      <td>1673867750</td>\n",
       "      <td>0.83</td>\n",
       "      <td>Rain, Partially cloudy</td>\n",
       "      <td>Partly cloudy throughout the day with storms p...</td>\n",
       "      <td>rain</td>\n",
       "      <td>None</td>\n",
       "      <td>fcst</td>\n",
       "    </tr>\n",
       "    <tr>\n",
       "      <th>2</th>\n",
       "      <td>2023-01-17</td>\n",
       "      <td>1673884800</td>\n",
       "      <td>28.3</td>\n",
       "      <td>25.1</td>\n",
       "      <td>26.6</td>\n",
       "      <td>31.3</td>\n",
       "      <td>25.1</td>\n",
       "      <td>27.7</td>\n",
       "      <td>22.6</td>\n",
       "      <td>78.9</td>\n",
       "      <td>...</td>\n",
       "      <td>07:13:09</td>\n",
       "      <td>1673910789</td>\n",
       "      <td>19:16:11</td>\n",
       "      <td>1673954171</td>\n",
       "      <td>0.88</td>\n",
       "      <td>Rain, Overcast</td>\n",
       "      <td>Cloudy skies throughout the day with a chance ...</td>\n",
       "      <td>rain</td>\n",
       "      <td>None</td>\n",
       "      <td>fcst</td>\n",
       "    </tr>\n",
       "    <tr>\n",
       "      <th>3</th>\n",
       "      <td>2023-01-18</td>\n",
       "      <td>1673971200</td>\n",
       "      <td>28.3</td>\n",
       "      <td>24.9</td>\n",
       "      <td>26.4</td>\n",
       "      <td>31.3</td>\n",
       "      <td>24.9</td>\n",
       "      <td>27.3</td>\n",
       "      <td>22.5</td>\n",
       "      <td>79.7</td>\n",
       "      <td>...</td>\n",
       "      <td>07:13:28</td>\n",
       "      <td>1673997208</td>\n",
       "      <td>19:16:32</td>\n",
       "      <td>1674040592</td>\n",
       "      <td>0.93</td>\n",
       "      <td>Rain, Overcast</td>\n",
       "      <td>Cloudy skies throughout the day with a chance ...</td>\n",
       "      <td>rain</td>\n",
       "      <td>None</td>\n",
       "      <td>fcst</td>\n",
       "    </tr>\n",
       "    <tr>\n",
       "      <th>4</th>\n",
       "      <td>2023-01-19</td>\n",
       "      <td>1674057600</td>\n",
       "      <td>29.0</td>\n",
       "      <td>24.9</td>\n",
       "      <td>26.9</td>\n",
       "      <td>32.6</td>\n",
       "      <td>24.9</td>\n",
       "      <td>28.5</td>\n",
       "      <td>22.7</td>\n",
       "      <td>78.4</td>\n",
       "      <td>...</td>\n",
       "      <td>07:13:46</td>\n",
       "      <td>1674083626</td>\n",
       "      <td>19:16:52</td>\n",
       "      <td>1674127012</td>\n",
       "      <td>0.96</td>\n",
       "      <td>Rain, Overcast</td>\n",
       "      <td>Cloudy skies throughout the day with storms po...</td>\n",
       "      <td>rain</td>\n",
       "      <td>None</td>\n",
       "      <td>fcst</td>\n",
       "    </tr>\n",
       "    <tr>\n",
       "      <th>5</th>\n",
       "      <td>2023-01-20</td>\n",
       "      <td>1674144000</td>\n",
       "      <td>28.7</td>\n",
       "      <td>24.8</td>\n",
       "      <td>26.8</td>\n",
       "      <td>31.9</td>\n",
       "      <td>24.8</td>\n",
       "      <td>28.3</td>\n",
       "      <td>23.0</td>\n",
       "      <td>79.9</td>\n",
       "      <td>...</td>\n",
       "      <td>07:14:03</td>\n",
       "      <td>1674170043</td>\n",
       "      <td>19:17:11</td>\n",
       "      <td>1674213431</td>\n",
       "      <td>0.99</td>\n",
       "      <td>Rain, Overcast</td>\n",
       "      <td>Cloudy skies throughout the day with storms po...</td>\n",
       "      <td>rain</td>\n",
       "      <td>None</td>\n",
       "      <td>fcst</td>\n",
       "    </tr>\n",
       "    <tr>\n",
       "      <th>6</th>\n",
       "      <td>2023-01-21</td>\n",
       "      <td>1674230400</td>\n",
       "      <td>28.0</td>\n",
       "      <td>25.2</td>\n",
       "      <td>26.4</td>\n",
       "      <td>30.4</td>\n",
       "      <td>25.2</td>\n",
       "      <td>27.2</td>\n",
       "      <td>22.6</td>\n",
       "      <td>80.1</td>\n",
       "      <td>...</td>\n",
       "      <td>07:14:20</td>\n",
       "      <td>1674256460</td>\n",
       "      <td>19:17:30</td>\n",
       "      <td>1674299850</td>\n",
       "      <td>1.00</td>\n",
       "      <td>Rain, Partially cloudy</td>\n",
       "      <td>Partly cloudy throughout the day with a chance...</td>\n",
       "      <td>rain</td>\n",
       "      <td>None</td>\n",
       "      <td>fcst</td>\n",
       "    </tr>\n",
       "  </tbody>\n",
       "</table>\n",
       "<p>7 rows × 36 columns</p>\n",
       "</div>"
      ],
      "text/plain": [
       "    datetime  datetimeEpoch  tempmax  tempmin  temp  feelslikemax  \\\n",
       "0 2023-01-15     1673712000     31.3     24.9  27.3          36.2   \n",
       "1 2023-01-16     1673798400     29.2     25.6  27.0          32.4   \n",
       "2 2023-01-17     1673884800     28.3     25.1  26.6          31.3   \n",
       "3 2023-01-18     1673971200     28.3     24.9  26.4          31.3   \n",
       "4 2023-01-19     1674057600     29.0     24.9  26.9          32.6   \n",
       "5 2023-01-20     1674144000     28.7     24.8  26.8          31.9   \n",
       "6 2023-01-21     1674230400     28.0     25.2  26.4          30.4   \n",
       "\n",
       "   feelslikemin  feelslike   dew  humidity  ...   sunrise  sunriseEpoch  \\\n",
       "0          24.9       29.7  23.9      82.0  ...  07:12:30    1673737950   \n",
       "1          25.6       28.3  22.8      78.1  ...  07:12:50    1673824370   \n",
       "2          25.1       27.7  22.6      78.9  ...  07:13:09    1673910789   \n",
       "3          24.9       27.3  22.5      79.7  ...  07:13:28    1673997208   \n",
       "4          24.9       28.5  22.7      78.4  ...  07:13:46    1674083626   \n",
       "5          24.8       28.3  23.0      79.9  ...  07:14:03    1674170043   \n",
       "6          25.2       27.2  22.6      80.1  ...  07:14:20    1674256460   \n",
       "\n",
       "     sunset sunsetEpoch  moonphase              conditions  \\\n",
       "0  19:15:27  1673781327       0.78  Rain, Partially cloudy   \n",
       "1  19:15:50  1673867750       0.83  Rain, Partially cloudy   \n",
       "2  19:16:11  1673954171       0.88          Rain, Overcast   \n",
       "3  19:16:32  1674040592       0.93          Rain, Overcast   \n",
       "4  19:16:52  1674127012       0.96          Rain, Overcast   \n",
       "5  19:17:11  1674213431       0.99          Rain, Overcast   \n",
       "6  19:17:30  1674299850       1.00  Rain, Partially cloudy   \n",
       "\n",
       "                                         description  icon  \\\n",
       "0  Partly cloudy throughout the day with storms p...  rain   \n",
       "1  Partly cloudy throughout the day with storms p...  rain   \n",
       "2  Cloudy skies throughout the day with a chance ...  rain   \n",
       "3  Cloudy skies throughout the day with a chance ...  rain   \n",
       "4  Cloudy skies throughout the day with storms po...  rain   \n",
       "5  Cloudy skies throughout the day with storms po...  rain   \n",
       "6  Partly cloudy throughout the day with a chance...  rain   \n",
       "\n",
       "                         stations  source  \n",
       "0  [WSAP, WSSS, WIDD, WSSL, WMKJ]    comb  \n",
       "1                            None    fcst  \n",
       "2                            None    fcst  \n",
       "3                            None    fcst  \n",
       "4                            None    fcst  \n",
       "5                            None    fcst  \n",
       "6                            None    fcst  \n",
       "\n",
       "[7 rows x 36 columns]"
      ]
     },
     "execution_count": 503,
     "metadata": {},
     "output_type": "execute_result"
    }
   ],
   "source": [
    "forcast_data"
   ]
  },
  {
   "cell_type": "code",
   "execution_count": 512,
   "id": "1ba169b6-9a49-4da3-8fd1-b2958863eba4",
   "metadata": {},
   "outputs": [
    {
     "name": "stdout",
     "output_type": "stream",
     "text": [
      "   aqi_1  aqi_2  aqi_3  aqi_4  aqi_5  aqi_6  aqi_7\n",
      "0   54.0   57.0   59.0   72.0   54.0   41.0   38.0\n",
      "1   54.0   57.0   59.0   72.0   54.0   41.0   38.0\n",
      "2   54.0   57.0   59.0   72.0   54.0   41.0   38.0\n",
      "3   54.0   57.0   59.0   72.0   54.0   41.0   38.0\n",
      "4   54.0   57.0   59.0   72.0   54.0   41.0   38.0\n",
      "5   54.0   57.0   59.0   72.0   54.0   41.0   38.0\n",
      "6   54.0   57.0   59.0   72.0   54.0   41.0   38.0\n"
     ]
    }
   ],
   "source": [
    "forcast_input=feature_engineering(forcast_data,latest_aqi)"
   ]
  },
  {
   "cell_type": "code",
   "execution_count": 513,
   "id": "5c6a23a3-b023-4a98-99b0-511945f13aa7",
   "metadata": {},
   "outputs": [],
   "source": [
    "def forcast_aqi(x,model):\n",
    "    return model.predict(x)"
   ]
  },
  {
   "cell_type": "code",
   "execution_count": 514,
   "id": "7d5ed657-7e55-43fd-b2a2-042622103400",
   "metadata": {},
   "outputs": [
    {
     "data": {
      "text/plain": [
       "array([62.166447, 55.227192, 41.453857, 41.454544, 41.454453, 41.0452  ,\n",
       "       41.06672 ], dtype=float32)"
      ]
     },
     "execution_count": 514,
     "metadata": {},
     "output_type": "execute_result"
    }
   ],
   "source": [
    "forcast_aqi(forcast_input,model)"
   ]
  },
  {
   "cell_type": "code",
   "execution_count": 497,
   "id": "7ef15825-0052-4571-a712-1e61b3bb274a",
   "metadata": {},
   "outputs": [
    {
     "data": {
      "text/html": [
       "<div>\n",
       "<style scoped>\n",
       "    .dataframe tbody tr th:only-of-type {\n",
       "        vertical-align: middle;\n",
       "    }\n",
       "\n",
       "    .dataframe tbody tr th {\n",
       "        vertical-align: top;\n",
       "    }\n",
       "\n",
       "    .dataframe thead th {\n",
       "        text-align: right;\n",
       "    }\n",
       "</style>\n",
       "<table border=\"1\" class=\"dataframe\">\n",
       "  <thead>\n",
       "    <tr style=\"text-align: right;\">\n",
       "      <th></th>\n",
       "      <th>tempmax</th>\n",
       "      <th>tempmin</th>\n",
       "      <th>temp</th>\n",
       "      <th>feelslikemax</th>\n",
       "      <th>feelslikemin</th>\n",
       "      <th>feelslike</th>\n",
       "      <th>dew</th>\n",
       "      <th>humidity</th>\n",
       "      <th>precip</th>\n",
       "      <th>precipprob</th>\n",
       "      <th>...</th>\n",
       "      <th>sunsetEpoch</th>\n",
       "      <th>moonphase</th>\n",
       "      <th>index</th>\n",
       "      <th>aqi_1</th>\n",
       "      <th>aqi_2</th>\n",
       "      <th>aqi_3</th>\n",
       "      <th>aqi_4</th>\n",
       "      <th>aqi_5</th>\n",
       "      <th>aqi_6</th>\n",
       "      <th>aqi_7</th>\n",
       "    </tr>\n",
       "  </thead>\n",
       "  <tbody>\n",
       "    <tr>\n",
       "      <th>0</th>\n",
       "      <td>31.3</td>\n",
       "      <td>24.9</td>\n",
       "      <td>27.3</td>\n",
       "      <td>36.2</td>\n",
       "      <td>24.9</td>\n",
       "      <td>29.7</td>\n",
       "      <td>23.9</td>\n",
       "      <td>82.0</td>\n",
       "      <td>3.2</td>\n",
       "      <td>100.0</td>\n",
       "      <td>...</td>\n",
       "      <td>1673781327</td>\n",
       "      <td>0.78</td>\n",
       "      <td>21</td>\n",
       "      <td>54.0</td>\n",
       "      <td>57.0</td>\n",
       "      <td>59.0</td>\n",
       "      <td>72.0</td>\n",
       "      <td>54.0</td>\n",
       "      <td>41.0</td>\n",
       "      <td>38.0</td>\n",
       "    </tr>\n",
       "    <tr>\n",
       "      <th>1</th>\n",
       "      <td>29.2</td>\n",
       "      <td>25.6</td>\n",
       "      <td>27.0</td>\n",
       "      <td>32.4</td>\n",
       "      <td>25.6</td>\n",
       "      <td>28.3</td>\n",
       "      <td>22.8</td>\n",
       "      <td>78.1</td>\n",
       "      <td>19.0</td>\n",
       "      <td>100.0</td>\n",
       "      <td>...</td>\n",
       "      <td>1673867750</td>\n",
       "      <td>0.83</td>\n",
       "      <td>21</td>\n",
       "      <td>54.0</td>\n",
       "      <td>57.0</td>\n",
       "      <td>59.0</td>\n",
       "      <td>72.0</td>\n",
       "      <td>54.0</td>\n",
       "      <td>41.0</td>\n",
       "      <td>38.0</td>\n",
       "    </tr>\n",
       "    <tr>\n",
       "      <th>2</th>\n",
       "      <td>28.3</td>\n",
       "      <td>25.1</td>\n",
       "      <td>26.6</td>\n",
       "      <td>31.3</td>\n",
       "      <td>25.1</td>\n",
       "      <td>27.7</td>\n",
       "      <td>22.6</td>\n",
       "      <td>78.9</td>\n",
       "      <td>17.0</td>\n",
       "      <td>85.7</td>\n",
       "      <td>...</td>\n",
       "      <td>1673954171</td>\n",
       "      <td>0.88</td>\n",
       "      <td>21</td>\n",
       "      <td>54.0</td>\n",
       "      <td>57.0</td>\n",
       "      <td>59.0</td>\n",
       "      <td>72.0</td>\n",
       "      <td>54.0</td>\n",
       "      <td>41.0</td>\n",
       "      <td>38.0</td>\n",
       "    </tr>\n",
       "    <tr>\n",
       "      <th>3</th>\n",
       "      <td>28.3</td>\n",
       "      <td>24.9</td>\n",
       "      <td>26.4</td>\n",
       "      <td>31.3</td>\n",
       "      <td>24.9</td>\n",
       "      <td>27.3</td>\n",
       "      <td>22.5</td>\n",
       "      <td>79.7</td>\n",
       "      <td>3.7</td>\n",
       "      <td>71.4</td>\n",
       "      <td>...</td>\n",
       "      <td>1674040592</td>\n",
       "      <td>0.93</td>\n",
       "      <td>21</td>\n",
       "      <td>54.0</td>\n",
       "      <td>57.0</td>\n",
       "      <td>59.0</td>\n",
       "      <td>72.0</td>\n",
       "      <td>54.0</td>\n",
       "      <td>41.0</td>\n",
       "      <td>38.0</td>\n",
       "    </tr>\n",
       "    <tr>\n",
       "      <th>4</th>\n",
       "      <td>29.0</td>\n",
       "      <td>24.9</td>\n",
       "      <td>26.9</td>\n",
       "      <td>32.6</td>\n",
       "      <td>24.9</td>\n",
       "      <td>28.5</td>\n",
       "      <td>22.7</td>\n",
       "      <td>78.4</td>\n",
       "      <td>8.5</td>\n",
       "      <td>57.1</td>\n",
       "      <td>...</td>\n",
       "      <td>1674127012</td>\n",
       "      <td>0.96</td>\n",
       "      <td>21</td>\n",
       "      <td>54.0</td>\n",
       "      <td>57.0</td>\n",
       "      <td>59.0</td>\n",
       "      <td>72.0</td>\n",
       "      <td>54.0</td>\n",
       "      <td>41.0</td>\n",
       "      <td>38.0</td>\n",
       "    </tr>\n",
       "    <tr>\n",
       "      <th>5</th>\n",
       "      <td>28.7</td>\n",
       "      <td>24.8</td>\n",
       "      <td>26.8</td>\n",
       "      <td>31.9</td>\n",
       "      <td>24.8</td>\n",
       "      <td>28.3</td>\n",
       "      <td>23.0</td>\n",
       "      <td>79.9</td>\n",
       "      <td>18.3</td>\n",
       "      <td>85.7</td>\n",
       "      <td>...</td>\n",
       "      <td>1674213431</td>\n",
       "      <td>0.99</td>\n",
       "      <td>21</td>\n",
       "      <td>54.0</td>\n",
       "      <td>57.0</td>\n",
       "      <td>59.0</td>\n",
       "      <td>72.0</td>\n",
       "      <td>54.0</td>\n",
       "      <td>41.0</td>\n",
       "      <td>38.0</td>\n",
       "    </tr>\n",
       "    <tr>\n",
       "      <th>6</th>\n",
       "      <td>28.0</td>\n",
       "      <td>25.2</td>\n",
       "      <td>26.4</td>\n",
       "      <td>30.4</td>\n",
       "      <td>25.2</td>\n",
       "      <td>27.2</td>\n",
       "      <td>22.6</td>\n",
       "      <td>80.1</td>\n",
       "      <td>16.0</td>\n",
       "      <td>90.5</td>\n",
       "      <td>...</td>\n",
       "      <td>1674299850</td>\n",
       "      <td>1.00</td>\n",
       "      <td>21</td>\n",
       "      <td>54.0</td>\n",
       "      <td>57.0</td>\n",
       "      <td>59.0</td>\n",
       "      <td>72.0</td>\n",
       "      <td>54.0</td>\n",
       "      <td>41.0</td>\n",
       "      <td>38.0</td>\n",
       "    </tr>\n",
       "  </tbody>\n",
       "</table>\n",
       "<p>7 rows × 33 columns</p>\n",
       "</div>"
      ],
      "text/plain": [
       "   tempmax  tempmin  temp  feelslikemax  feelslikemin  feelslike   dew  \\\n",
       "0     31.3     24.9  27.3          36.2          24.9       29.7  23.9   \n",
       "1     29.2     25.6  27.0          32.4          25.6       28.3  22.8   \n",
       "2     28.3     25.1  26.6          31.3          25.1       27.7  22.6   \n",
       "3     28.3     24.9  26.4          31.3          24.9       27.3  22.5   \n",
       "4     29.0     24.9  26.9          32.6          24.9       28.5  22.7   \n",
       "5     28.7     24.8  26.8          31.9          24.8       28.3  23.0   \n",
       "6     28.0     25.2  26.4          30.4          25.2       27.2  22.6   \n",
       "\n",
       "   humidity  precip  precipprob  ...  sunsetEpoch  moonphase  index  aqi_1  \\\n",
       "0      82.0     3.2       100.0  ...   1673781327       0.78     21   54.0   \n",
       "1      78.1    19.0       100.0  ...   1673867750       0.83     21   54.0   \n",
       "2      78.9    17.0        85.7  ...   1673954171       0.88     21   54.0   \n",
       "3      79.7     3.7        71.4  ...   1674040592       0.93     21   54.0   \n",
       "4      78.4     8.5        57.1  ...   1674127012       0.96     21   54.0   \n",
       "5      79.9    18.3        85.7  ...   1674213431       0.99     21   54.0   \n",
       "6      80.1    16.0        90.5  ...   1674299850       1.00     21   54.0   \n",
       "\n",
       "   aqi_2  aqi_3  aqi_4  aqi_5  aqi_6  aqi_7  \n",
       "0   57.0   59.0   72.0   54.0   41.0   38.0  \n",
       "1   57.0   59.0   72.0   54.0   41.0   38.0  \n",
       "2   57.0   59.0   72.0   54.0   41.0   38.0  \n",
       "3   57.0   59.0   72.0   54.0   41.0   38.0  \n",
       "4   57.0   59.0   72.0   54.0   41.0   38.0  \n",
       "5   57.0   59.0   72.0   54.0   41.0   38.0  \n",
       "6   57.0   59.0   72.0   54.0   41.0   38.0  \n",
       "\n",
       "[7 rows x 33 columns]"
      ]
     },
     "execution_count": 497,
     "metadata": {},
     "output_type": "execute_result"
    }
   ],
   "source": [
    "forcast_input"
   ]
  },
  {
   "cell_type": "code",
   "execution_count": null,
   "id": "8231cd53-f9f9-4f6e-8519-9580e140f88c",
   "metadata": {},
   "outputs": [],
   "source": []
  }
 ],
 "metadata": {
  "kernelspec": {
   "display_name": "Python 3 (ipykernel)",
   "language": "python",
   "name": "python3"
  },
  "language_info": {
   "codemirror_mode": {
    "name": "ipython",
    "version": 3
   },
   "file_extension": ".py",
   "mimetype": "text/x-python",
   "name": "python",
   "nbconvert_exporter": "python",
   "pygments_lexer": "ipython3",
   "version": "3.9.0"
  }
 },
 "nbformat": 4,
 "nbformat_minor": 5
}
