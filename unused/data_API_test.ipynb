{
  "nbformat": 4,
  "nbformat_minor": 0,
  "metadata": {
    "colab": {
      "provenance": []
    },
    "kernelspec": {
      "name": "python3",
      "display_name": "Python 3"
    },
    "language_info": {
      "name": "python"
    }
  },
  "cells": [
    {
      "cell_type": "markdown",
      "source": [
        "## Test json API for fetching Air Quality Data (Token included)\n",
        "\n",
        "An AQI value of 50 or below represents good air quality, while an AQI value over 300 represents hazardous air quality."
      ],
      "metadata": {
        "id": "AsPaB9wOV4rA"
      }
    },
    {
      "cell_type": "code",
      "execution_count": null,
      "metadata": {
        "colab": {
          "base_uri": "https://localhost:8080/"
        },
        "id": "YJoXRZ2iTuYA",
        "outputId": "f620e158-6d69-4ce2-ca55-1ed39eb51478"
      },
      "outputs": [
        {
          "output_type": "stream",
          "name": "stdout",
          "text": [
            "HTTP/2 200 \r\n",
            "server: nginx\r\n",
            "date: Thu, 12 Jan 2023 23:32:50 GMT\r\n",
            "content-type: application/json; charset=UTF-8\r\n",
            "content-length: 2325\r\n",
            "vary: Accept-Encoding\r\n",
            "access-control-allow-origin: *\r\n",
            "x-gen-time: 92.382µs\r\n",
            "x-powered-by: rxstreamer-waqi/1.3\r\n",
            "\r\n",
            "{\"status\":\"ok\",\"data\":{\"aqi\":89,\"idx\":1437,\"attributions\":[{\"url\":\"https://sthj.sh.gov.cn/\",\"name\":\"Shanghai Environment Monitoring Center(上海市环境监测中心)\"},{\"url\":\"http://106.37.208.233:20035/emcpublish/\",\"name\":\"China National Urban air quality real-time publishing platform (全国城市空气质量实时发布平台)\"},{\"url\":\"https://china.usembassy-china.org.cn/embassy-consulates/shanghai/air-quality-monitor-stateair/\",\"name\":\"U.S. Consulate Shanghai Air Quality Monitor\"},{\"url\":\"https://waqi.info/\",\"name\":\"World Air Quality Index Project\"}],\"city\":{\"geo\":[31.2047372,121.4489017],\"name\":\"Shanghai (上海)\",\"url\":\"https://aqicn.org/city/shanghai\",\"location\":\"\"},\"dominentpol\":\"pm25\",\"iaqi\":{\"co\":{\"v\":7.3},\"h\":{\"v\":95},\"no2\":{\"v\":23.4},\"o3\":{\"v\":0.9},\"p\":{\"v\":999},\"pm10\":{\"v\":28},\"pm25\":{\"v\":89},\"so2\":{\"v\":3.1},\"t\":{\"v\":17.4},\"w\":{\"v\":0.1}},\"time\":{\"s\":\"2023-01-13 07:00:00\",\"tz\":\"+08:00\",\"v\":1673593200,\"iso\":\"2023-01-13T07:00:00+08:00\"},\"forecast\":{\"daily\":{\"o3\":[{\"avg\":1,\"day\":\"2023-01-11\",\"max\":3,\"min\":1},{\"avg\":1,\"day\":\"2023-01-12\",\"max\":1,\"min\":1},{\"avg\":1,\"day\":\"2023-01-13\",\"max\":1,\"min\":1},{\"avg\":2,\"day\":\"2023-01-14\",\"max\":4,\"min\":1},{\"avg\":4,\"day\":\"2023-01-15\",\"max\":4,\"min\":2},{\"avg\":4,\"day\":\"2023-01-16\",\"max\":7,\"min\":3},{\"avg\":2,\"day\":\"2023-01-17\",\"max\":3,\"min\":1}],\"pm10\":[{\"avg\":57,\"day\":\"2023-01-11\",\"max\":57,\"min\":57},{\"avg\":113,\"day\":\"2023-01-12\",\"max\":123,\"min\":73},{\"avg\":123,\"day\":\"2023-01-13\",\"max\":126,\"min\":116},{\"avg\":50,\"day\":\"2023-01-14\",\"max\":125,\"min\":28},{\"avg\":45,\"day\":\"2023-01-15\",\"max\":46,\"min\":34},{\"avg\":47,\"day\":\"2023-01-16\",\"max\":58,\"min\":28},{\"avg\":74,\"day\":\"2023-01-17\",\"max\":123,\"min\":46},{\"avg\":106,\"day\":\"2023-01-18\",\"max\":123,\"min\":58},{\"avg\":87,\"day\":\"2023-01-19\",\"max\":123,\"min\":46}],\"pm25\":[{\"avg\":160,\"day\":\"2023-01-11\",\"max\":160,\"min\":160},{\"avg\":233,\"day\":\"2023-01-12\",\"max\":252,\"min\":165},{\"avg\":251,\"day\":\"2023-01-13\",\"max\":252,\"min\":237},{\"avg\":120,\"day\":\"2023-01-14\",\"max\":252,\"min\":68},{\"avg\":89,\"day\":\"2023-01-15\",\"max\":127,\"min\":68},{\"avg\":125,\"day\":\"2023-01-16\",\"max\":159,\"min\":68},{\"avg\":175,\"day\":\"2023-01-17\",\"max\":230,\"min\":138},{\"avg\":222,\"day\":\"2023-01-18\",\"max\":252,\"min\":159},{\"avg\":193,\"day\":\"2023-01-19\",\"max\":245,\"min\":125}],\"uvi\":[{\"avg\":0,\"day\":\"2022-10-24\",\"max\":1,\"min\":0}]}},\"debug\":{\"sync\":\"2023-01-13T08:32:43+09:00\"}}}"
          ]
        }
      ],
      "source": [
        "!curl -i \"https://api.waqi.info/feed/shanghai/?token=906cc636c0bebe1e2df7569ee4e74aff22760eb5\""
      ]
    },
    {
      "cell_type": "code",
      "source": [
        "import urllib, json"
      ],
      "metadata": {
        "id": "4FxjdUjkV3YD"
      },
      "execution_count": null,
      "outputs": []
    },
    {
      "cell_type": "code",
      "source": [
        "url = \"https://api.waqi.info/feed/shanghai/?token=906cc636c0bebe1e2df7569ee4e74aff22760eb5\"\n",
        "\n",
        "response = urllib.request.urlopen(url)\n",
        "\n",
        "data = json.loads(response.read())\n",
        "\n",
        "#data\n",
        "# data is a dict"
      ],
      "metadata": {
        "id": "IbdirCcuV3aY"
      },
      "execution_count": null,
      "outputs": []
    },
    {
      "cell_type": "code",
      "source": [
        "data.keys()"
      ],
      "metadata": {
        "colab": {
          "base_uri": "https://localhost:8080/"
        },
        "id": "QlPJE8tGV3cf",
        "outputId": "ab19748d-fbc2-4b90-c4a4-358ef761cd81"
      },
      "execution_count": null,
      "outputs": [
        {
          "output_type": "execute_result",
          "data": {
            "text/plain": [
              "dict_keys(['status', 'data'])"
            ]
          },
          "metadata": {},
          "execution_count": 13
        }
      ]
    },
    {
      "cell_type": "code",
      "source": [
        "data['data'].keys()"
      ],
      "metadata": {
        "colab": {
          "base_uri": "https://localhost:8080/"
        },
        "id": "9z2t37-vWseh",
        "outputId": "04d711af-043c-4267-dde3-fc45a9175417"
      },
      "execution_count": null,
      "outputs": [
        {
          "output_type": "execute_result",
          "data": {
            "text/plain": [
              "dict_keys(['aqi', 'idx', 'attributions', 'city', 'dominentpol', 'iaqi', 'time', 'forecast', 'debug'])"
            ]
          },
          "metadata": {},
          "execution_count": 15
        }
      ]
    },
    {
      "cell_type": "code",
      "source": [
        "data['data']['iaqi'].keys()"
      ],
      "metadata": {
        "colab": {
          "base_uri": "https://localhost:8080/"
        },
        "id": "OSzHjUGIWsgu",
        "outputId": "d4581b33-975a-4abd-ce7f-82a0a12d345f"
      },
      "execution_count": null,
      "outputs": [
        {
          "output_type": "execute_result",
          "data": {
            "text/plain": [
              "dict_keys(['co', 'h', 'no2', 'o3', 'p', 'pm10', 'pm25', 'so2', 't', 'w'])"
            ]
          },
          "metadata": {},
          "execution_count": 16
        }
      ]
    },
    {
      "cell_type": "markdown",
      "source": [
        "So these will be the data that needed"
      ],
      "metadata": {
        "id": "KFMQ1O7iZJcv"
      }
    },
    {
      "cell_type": "code",
      "source": [
        "data['data']['aqi']"
      ],
      "metadata": {
        "colab": {
          "base_uri": "https://localhost:8080/"
        },
        "id": "P56FXwMvWsjV",
        "outputId": "4d86b781-a5af-4c11-9273-98136b227048"
      },
      "execution_count": null,
      "outputs": [
        {
          "output_type": "execute_result",
          "data": {
            "text/plain": [
              "89"
            ]
          },
          "metadata": {},
          "execution_count": 23
        }
      ]
    },
    {
      "cell_type": "code",
      "source": [
        "data['data']['iaqi']['pm10']"
      ],
      "metadata": {
        "colab": {
          "base_uri": "https://localhost:8080/"
        },
        "id": "807oSucmWslk",
        "outputId": "1c2d275c-4dcc-4043-db43-96e697322d51"
      },
      "execution_count": null,
      "outputs": [
        {
          "output_type": "execute_result",
          "data": {
            "text/plain": [
              "{'v': 28}"
            ]
          },
          "metadata": {},
          "execution_count": 24
        }
      ]
    },
    {
      "cell_type": "code",
      "source": [
        "data['data']['iaqi']['pm25']"
      ],
      "metadata": {
        "colab": {
          "base_uri": "https://localhost:8080/"
        },
        "id": "ikfETaZtWsns",
        "outputId": "44f9a1e8-ea17-4347-91a2-1ef77d925393"
      },
      "execution_count": null,
      "outputs": [
        {
          "output_type": "execute_result",
          "data": {
            "text/plain": [
              "{'v': 89}"
            ]
          },
          "metadata": {},
          "execution_count": 25
        }
      ]
    },
    {
      "cell_type": "code",
      "source": [
        "data['data']['time']"
      ],
      "metadata": {
        "colab": {
          "base_uri": "https://localhost:8080/"
        },
        "id": "Orjav2q_ZDf5",
        "outputId": "96ed0110-8d8f-453b-9b39-013f5422adbd"
      },
      "execution_count": null,
      "outputs": [
        {
          "output_type": "execute_result",
          "data": {
            "text/plain": [
              "{'s': '2023-01-13 07:00:00',\n",
              " 'tz': '+08:00',\n",
              " 'v': 1673593200,\n",
              " 'iso': '2023-01-13T07:00:00+08:00'}"
            ]
          },
          "metadata": {},
          "execution_count": 26
        }
      ]
    },
    {
      "cell_type": "markdown",
      "source": [
        "## For getting Weather data (Token included)"
      ],
      "metadata": {
        "id": "GaztbL6jZV2Q"
      }
    },
    {
      "cell_type": "markdown",
      "source": [
        "See tutorial here: https://www.visualcrossing.com/resources/blog/how-to-load-historical-weather-data-using-python-without-scraping/\n",
        "\n",
        "Weather API documentation: https://www.visualcrossing.com/resources/documentation/weather-api/timeline-weather-api/"
      ],
      "metadata": {
        "id": "ZkGhhwhsaPU6"
      }
    },
    {
      "cell_type": "code",
      "source": [
        "import csv\n",
        "import codecs\n",
        "import urllib.request\n",
        "import urllib.error\n",
        "import sys"
      ],
      "metadata": {
        "id": "xEF9UoW8ZasG"
      },
      "execution_count": null,
      "outputs": []
    },
    {
      "cell_type": "code",
      "source": [
        "BaseURL = 'https://weather.visualcrossing.com/VisualCrossingWebServices/rest/services/timeline/'\n",
        "\n",
        "ApiKey='24RTFNM4SDFDYM6LHQAVWCM8V'\n",
        "\n",
        "\n",
        "# Set dynamic date range\n",
        "TimePeriods = 'last40days'\n",
        "\n",
        "#UnitGroup sets the units of the output - us or metric\n",
        "UnitGroup='us'\n",
        "\n",
        "#Location for the weather data\n",
        "Location='Singapore'\n",
        "\n",
        "#Optional start and end dates format\"2022-01-01\"\n",
        "#If nothing is specified, the forecast is retrieved. \n",
        "#If start date only is specified, a single historical or forecast day will be retrieved\n",
        "#If both start and and end date are specified, a date range will be retrieved\n",
        "StartDate = ''\n",
        "EndDate=''\n",
        "\n",
        "#JSON or CSV (default is json)\n",
        "#JSON format supports daily, hourly, current conditions, weather alerts and events in a single JSON package\n",
        "#CSV format requires an 'include' parameter below to indicate which table section is required\n",
        "ContentType=\"\"\n",
        "\n",
        "#include sections\n",
        "#values include days,hours,current,alerts\n",
        "#Include=\"days\"\n",
        "#Include=\"last7days\"\n",
        "\n",
        "#basic query including location\n",
        "ApiQuery=BaseURL + Location\n",
        "\n",
        "#append the start and end date if present\n",
        "if (len(StartDate)):\n",
        "    ApiQuery+=\"/\"+StartDate\n",
        "    if (len(EndDate)):\n",
        "        ApiQuery+=\"/\"+EndDate\n",
        "\n",
        "if (len(TimePeriods)):\n",
        "    ApiQuery+=\"/\"+TimePeriods\n",
        "\n",
        "#Url is completed. Now add query parameters (could be passed as GET or POST)\n",
        "ApiQuery+=\"?\"\n",
        "\n",
        "#append each parameter as necessary\n",
        "if (len(UnitGroup)):\n",
        "    ApiQuery+=\"&unitGroup=\"+UnitGroup\n",
        "\n",
        "if (len(ContentType)):\n",
        "    ApiQuery+=\"&contentType=\"+ContentType\n",
        "\n",
        "if (len(Include)):\n",
        "    ApiQuery+=\"&include=\"+Include\n",
        "\n",
        "ApiQuery+=\"&key=\"+ApiKey"
      ],
      "metadata": {
        "id": "3e0BXIWpZavB"
      },
      "execution_count": null,
      "outputs": []
    },
    {
      "cell_type": "code",
      "source": [
        "print(' - Running query URL: ', ApiQuery)\n",
        "print()\n",
        "\n",
        "try: \n",
        "    weatherData_json = urllib.request.urlopen(ApiQuery)\n",
        "    #CSVBytes = urllib.request.urlopen(ApiQuery)\n",
        "except urllib.error.HTTPError  as e:\n",
        "    ErrorInfo= e.read().decode() \n",
        "    print('Error code: ', e.code, ErrorInfo)\n",
        "    sys.exit()\n",
        "except  urllib.error.URLError as e:\n",
        "    ErrorInfo= e.read().decode() \n",
        "    print('Error code: ', e.code,ErrorInfo)\n",
        "    sys.exit()"
      ],
      "metadata": {
        "colab": {
          "base_uri": "https://localhost:8080/"
        },
        "id": "kcFS6HfybIyp",
        "outputId": "ba9faa45-571d-4fe2-d631-30ff462df3d1"
      },
      "execution_count": null,
      "outputs": [
        {
          "output_type": "stream",
          "name": "stdout",
          "text": [
            " - Running query URL:  https://weather.visualcrossing.com/VisualCrossingWebServices/rest/services/timeline/Singapore/last40days?&unitGroup=us&include=days&key=24RTFNM4SDFDYM6LHQAVWCM8V\n",
            "\n"
          ]
        }
      ]
    },
    {
      "cell_type": "code",
      "source": [
        "#CSVBytes"
      ],
      "metadata": {
        "colab": {
          "base_uri": "https://localhost:8080/"
        },
        "id": "7jhNfwEbxGTF",
        "outputId": "56b36b9e-3a26-494e-bda0-ff9c70990907"
      },
      "execution_count": null,
      "outputs": [
        {
          "output_type": "execute_result",
          "data": {
            "text/plain": [
              "<http.client.HTTPResponse at 0x7fdfce517b80>"
            ]
          },
          "metadata": {},
          "execution_count": 9
        }
      ]
    },
    {
      "cell_type": "code",
      "source": [
        "#CSVText = csv.reader(codecs.iterdecode(CSVBytes, 'utf-8'))"
      ],
      "metadata": {
        "id": "PLDOd7mPwKCR"
      },
      "execution_count": null,
      "outputs": []
    },
    {
      "cell_type": "code",
      "source": [
        "import json\n",
        "\n",
        "w = json.loads(weatherData_json.read())"
      ],
      "metadata": {
        "id": "5Mechy11aZLK"
      },
      "execution_count": null,
      "outputs": []
    },
    {
      "cell_type": "code",
      "source": [
        "w"
      ],
      "metadata": {
        "id": "zNi0AUJF34qL"
      },
      "execution_count": null,
      "outputs": []
    },
    {
      "cell_type": "code",
      "source": [
        "import pandas\n",
        "\n",
        "df = pandas.DataFrame.from_dict(w['days'])\n",
        "pandas.DataFrame.to_csv(df,\"weather_data_sg.csv\")"
      ],
      "metadata": {
        "id": "ttoCNSrEyjjt"
      },
      "execution_count": null,
      "outputs": []
    },
    {
      "cell_type": "code",
      "source": [
        "from google.colab import files\n",
        "files.download(\"weather_data_sg.csv\")"
      ],
      "metadata": {
        "colab": {
          "base_uri": "https://localhost:8080/",
          "height": 17
        },
        "id": "fpyTzHCswUMy",
        "outputId": "da78bbf3-352e-4404-fcf0-2f5ff5b05b09"
      },
      "execution_count": null,
      "outputs": [
        {
          "output_type": "display_data",
          "data": {
            "text/plain": [
              "<IPython.core.display.Javascript object>"
            ],
            "application/javascript": [
              "\n",
              "    async function download(id, filename, size) {\n",
              "      if (!google.colab.kernel.accessAllowed) {\n",
              "        return;\n",
              "      }\n",
              "      const div = document.createElement('div');\n",
              "      const label = document.createElement('label');\n",
              "      label.textContent = `Downloading \"${filename}\": `;\n",
              "      div.appendChild(label);\n",
              "      const progress = document.createElement('progress');\n",
              "      progress.max = size;\n",
              "      div.appendChild(progress);\n",
              "      document.body.appendChild(div);\n",
              "\n",
              "      const buffers = [];\n",
              "      let downloaded = 0;\n",
              "\n",
              "      const channel = await google.colab.kernel.comms.open(id);\n",
              "      // Send a message to notify the kernel that we're ready.\n",
              "      channel.send({})\n",
              "\n",
              "      for await (const message of channel.messages) {\n",
              "        // Send a message to notify the kernel that we're ready.\n",
              "        channel.send({})\n",
              "        if (message.buffers) {\n",
              "          for (const buffer of message.buffers) {\n",
              "            buffers.push(buffer);\n",
              "            downloaded += buffer.byteLength;\n",
              "            progress.value = downloaded;\n",
              "          }\n",
              "        }\n",
              "      }\n",
              "      const blob = new Blob(buffers, {type: 'application/binary'});\n",
              "      const a = document.createElement('a');\n",
              "      a.href = window.URL.createObjectURL(blob);\n",
              "      a.download = filename;\n",
              "      div.appendChild(a);\n",
              "      a.click();\n",
              "      div.remove();\n",
              "    }\n",
              "  "
            ]
          },
          "metadata": {}
        },
        {
          "output_type": "display_data",
          "data": {
            "text/plain": [
              "<IPython.core.display.Javascript object>"
            ],
            "application/javascript": [
              "download(\"download_3dab0d6a-1827-4896-a8a9-88727b1326be\", \"weather_data_sg.csv\", 14993)"
            ]
          },
          "metadata": {}
        }
      ]
    },
    {
      "cell_type": "code",
      "source": [
        "w['days'][2]"
      ],
      "metadata": {
        "colab": {
          "base_uri": "https://localhost:8080/"
        },
        "id": "I9pu75npx2yl",
        "outputId": "5e5d58b3-c3a0-4a52-f543-fb59e0519783"
      },
      "execution_count": null,
      "outputs": [
        {
          "output_type": "execute_result",
          "data": {
            "text/plain": [
              "{'datetime': '2023-01-14',\n",
              " 'datetimeEpoch': 1673625600,\n",
              " 'tempmax': 87.6,\n",
              " 'tempmin': 76.8,\n",
              " 'temp': 80.3,\n",
              " 'feelslikemax': 96.7,\n",
              " 'feelslikemin': 76.8,\n",
              " 'feelslike': 83.1,\n",
              " 'dew': 75.3,\n",
              " 'humidity': 85.4,\n",
              " 'precip': 0.484,\n",
              " 'precipprob': 100.0,\n",
              " 'precipcover': 45.83,\n",
              " 'preciptype': ['rain'],\n",
              " 'snow': 0.0,\n",
              " 'snowdepth': None,\n",
              " 'windgust': 6.5,\n",
              " 'windspeed': 9.1,\n",
              " 'winddir': 35.5,\n",
              " 'pressure': 1009.6,\n",
              " 'cloudcover': 80.0,\n",
              " 'visibility': 5.6,\n",
              " 'solarradiation': 257.8,\n",
              " 'solarenergy': 22.3,\n",
              " 'uvindex': 9.0,\n",
              " 'severerisk': 30.0,\n",
              " 'sunrise': '07:11:55',\n",
              " 'sunriseEpoch': 1673651515,\n",
              " 'sunset': '19:15:03',\n",
              " 'sunsetEpoch': 1673694903,\n",
              " 'moonphase': 0.72,\n",
              " 'conditions': 'Rain, Partially cloudy',\n",
              " 'description': 'Partly cloudy throughout the day with a chance of rain throughout the day.',\n",
              " 'icon': 'rain',\n",
              " 'stations': ['WSAP', 'WSSS', 'WIDD', 'WSSL', 'WMKJ'],\n",
              " 'source': 'obs'}"
            ]
          },
          "metadata": {},
          "execution_count": 19
        }
      ]
    },
    {
      "cell_type": "code",
      "source": [
        "w.keys()"
      ],
      "metadata": {
        "colab": {
          "base_uri": "https://localhost:8080/"
        },
        "id": "1-Y3pYe0aZNY",
        "outputId": "82043be6-24ad-4bb4-a1c1-a14c009ec40d"
      },
      "execution_count": null,
      "outputs": [
        {
          "output_type": "execute_result",
          "data": {
            "text/plain": [
              "dict_keys(['queryCost', 'latitude', 'longitude', 'resolvedAddress', 'address', 'timezone', 'tzoffset', 'days', 'stations'])"
            ]
          },
          "metadata": {},
          "execution_count": 78
        }
      ]
    },
    {
      "cell_type": "code",
      "source": [
        "w['resolvedAddress']"
      ],
      "metadata": {
        "colab": {
          "base_uri": "https://localhost:8080/",
          "height": 35
        },
        "id": "lqLw6h3kdlnp",
        "outputId": "252297f6-b3e9-4247-b655-6bece9af01a2"
      },
      "execution_count": null,
      "outputs": [
        {
          "output_type": "execute_result",
          "data": {
            "text/plain": [
              "'Washington, DC, United States'"
            ],
            "application/vnd.google.colaboratory.intrinsic+json": {
              "type": "string"
            }
          },
          "metadata": {},
          "execution_count": 66
        }
      ]
    },
    {
      "cell_type": "code",
      "source": [
        "len(w['days'])"
      ],
      "metadata": {
        "colab": {
          "base_uri": "https://localhost:8080/"
        },
        "id": "glLjTBJ-gLEV",
        "outputId": "9b027613-2540-4c71-f462-a46cac460815"
      },
      "execution_count": null,
      "outputs": [
        {
          "output_type": "execute_result",
          "data": {
            "text/plain": [
              "8"
            ]
          },
          "metadata": {},
          "execution_count": 93
        }
      ]
    },
    {
      "cell_type": "code",
      "source": [
        "w['days'][0].keys()"
      ],
      "metadata": {
        "colab": {
          "base_uri": "https://localhost:8080/"
        },
        "id": "_AUq-fkZdlqM",
        "outputId": "957b1b66-a001-40e2-e8ec-6ce7205ec97c"
      },
      "execution_count": null,
      "outputs": [
        {
          "output_type": "execute_result",
          "data": {
            "text/plain": [
              "dict_keys(['datetime', 'datetimeEpoch', 'tempmax', 'tempmin', 'temp', 'feelslikemax', 'feelslikemin', 'feelslike', 'dew', 'humidity', 'precip', 'precipprob', 'precipcover', 'preciptype', 'snow', 'snowdepth', 'windgust', 'windspeed', 'winddir', 'pressure', 'cloudcover', 'visibility', 'solarradiation', 'solarenergy', 'uvindex', 'severerisk', 'sunrise', 'sunriseEpoch', 'sunset', 'sunsetEpoch', 'moonphase', 'conditions', 'description', 'icon', 'stations', 'source'])"
            ]
          },
          "metadata": {},
          "execution_count": 86
        }
      ]
    },
    {
      "cell_type": "code",
      "source": [
        "w['days'][-1]['datetime']  # The latest date time"
      ],
      "metadata": {
        "id": "xLy0hWCYdlsy",
        "colab": {
          "base_uri": "https://localhost:8080/",
          "height": 35
        },
        "outputId": "0adcc977-23a6-4409-d745-caca77e12f8c"
      },
      "execution_count": null,
      "outputs": [
        {
          "output_type": "execute_result",
          "data": {
            "text/plain": [
              "'2023-01-11'"
            ],
            "application/vnd.google.colaboratory.intrinsic+json": {
              "type": "string"
            }
          },
          "metadata": {},
          "execution_count": 95
        }
      ]
    },
    {
      "cell_type": "code",
      "source": [],
      "metadata": {
        "id": "FwcfGtyadlvA"
      },
      "execution_count": null,
      "outputs": []
    },
    {
      "cell_type": "code",
      "source": [],
      "metadata": {
        "id": "1dzcHFlxdlxW"
      },
      "execution_count": null,
      "outputs": []
    },
    {
      "cell_type": "markdown",
      "source": [
        "## AQI in ambee (with API key) [it doesnt support hist data]\n",
        "https://api-dashboard.getambee.com/#/"
      ],
      "metadata": {
        "id": "Nc5UOxKH3Olp"
      }
    },
    {
      "cell_type": "code",
      "source": [
        "import requests\n",
        "url = \"https://api.ambeedata.com/history/by-lat-lng\"\n",
        "querystring = {\"lat\":\"1.29088\",\"lng\":\"103.852\",\"from\":\"2023-01-13 12:16:44\",\"to\":\"2023-01-14 12:16:44\"}\n",
        "headers = {\n",
        "    'x-api-key': \"e02123b86ed3494527a4b52d5050ed437268b61c8a0c6fc4ba425bdbb9ed7c21\",\n",
        "    'Content-type': \"application/json\"\n",
        "    }\n",
        "response = requests.request(\"GET\", url, headers=headers, params=querystring)\n",
        "print(response.text)"
      ],
      "metadata": {
        "id": "In7eUMWz3O1g"
      },
      "execution_count": null,
      "outputs": []
    },
    {
      "cell_type": "code",
      "source": [
        "response.text"
      ],
      "metadata": {
        "colab": {
          "base_uri": "https://localhost:8080/",
          "height": 35
        },
        "id": "ThvK0t183O5k",
        "outputId": "116329ea-9898-4fca-ace9-d984ccb54688"
      },
      "execution_count": null,
      "outputs": [
        {
          "output_type": "execute_result",
          "data": {
            "text/plain": [
              "'{\"message\":\"Only past 2 days data available!, please reach out to contactus@getambee.com\",\"data\":[]}'"
            ],
            "application/vnd.google.colaboratory.intrinsic+json": {
              "type": "string"
            }
          },
          "metadata": {},
          "execution_count": 24
        }
      ]
    }
  ]
}