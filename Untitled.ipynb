{
 "cells": [
  {
   "cell_type": "code",
   "execution_count": 111,
   "id": "025f4efd-5317-4c5d-9b25-ce040e1121aa",
   "metadata": {},
   "outputs": [],
   "source": [
    "import pandas as pd\n",
    "import numpy as np\n",
    "import datetime"
   ]
  },
  {
   "cell_type": "code",
   "execution_count": 112,
   "id": "8af966fd-6a01-4b6f-b9f9-172eab3eebb4",
   "metadata": {},
   "outputs": [],
   "source": [
    "weather_training_data=pd.read_csv(\"weather_training_data_sg.csv\",index_col=0)"
   ]
  },
  {
   "cell_type": "code",
   "execution_count": 113,
   "id": "68ad8c0e-8115-45ee-b16a-37db4f2bac38",
   "metadata": {},
   "outputs": [],
   "source": [
    "aqi_training_data=pd.read_csv(\"aqi_training_data.csv\",index_col=0)"
   ]
  },
  {
   "cell_type": "code",
   "execution_count": 114,
   "id": "afe740b2-b1de-43a9-a723-ac8350b88a7b",
   "metadata": {},
   "outputs": [
    {
     "data": {
      "text/html": [
       "<div>\n",
       "<style scoped>\n",
       "    .dataframe tbody tr th:only-of-type {\n",
       "        vertical-align: middle;\n",
       "    }\n",
       "\n",
       "    .dataframe tbody tr th {\n",
       "        vertical-align: top;\n",
       "    }\n",
       "\n",
       "    .dataframe thead th {\n",
       "        text-align: right;\n",
       "    }\n",
       "</style>\n",
       "<table border=\"1\" class=\"dataframe\">\n",
       "  <thead>\n",
       "    <tr style=\"text-align: right;\">\n",
       "      <th></th>\n",
       "      <th>datetime</th>\n",
       "      <th>aqi</th>\n",
       "    </tr>\n",
       "  </thead>\n",
       "  <tbody>\n",
       "    <tr>\n",
       "      <th>0</th>\n",
       "      <td>None</td>\n",
       "      <td>NaN</td>\n",
       "    </tr>\n",
       "    <tr>\n",
       "      <th>1</th>\n",
       "      <td>17/12/2022</td>\n",
       "      <td>29.0</td>\n",
       "    </tr>\n",
       "    <tr>\n",
       "      <th>2</th>\n",
       "      <td>18/12/2022</td>\n",
       "      <td>33.0</td>\n",
       "    </tr>\n",
       "    <tr>\n",
       "      <th>3</th>\n",
       "      <td>19/12/2022</td>\n",
       "      <td>29.0</td>\n",
       "    </tr>\n",
       "    <tr>\n",
       "      <th>4</th>\n",
       "      <td>20/12/2022</td>\n",
       "      <td>27.0</td>\n",
       "    </tr>\n",
       "  </tbody>\n",
       "</table>\n",
       "</div>"
      ],
      "text/plain": [
       "     datetime   aqi\n",
       "0        None   NaN\n",
       "1  17/12/2022  29.0\n",
       "2  18/12/2022  33.0\n",
       "3  19/12/2022  29.0\n",
       "4  20/12/2022  27.0"
      ]
     },
     "execution_count": 114,
     "metadata": {},
     "output_type": "execute_result"
    }
   ],
   "source": [
    "aqi_training_data.head().shift(1)"
   ]
  },
  {
   "cell_type": "code",
   "execution_count": 115,
   "id": "8375a06a-82b7-4fca-8181-a71534e7f843",
   "metadata": {},
   "outputs": [
    {
     "data": {
      "text/plain": [
       "(41, 36)"
      ]
     },
     "execution_count": 115,
     "metadata": {},
     "output_type": "execute_result"
    }
   ],
   "source": [
    "weather_training_data.shape"
   ]
  },
  {
   "cell_type": "code",
   "execution_count": 116,
   "id": "14ce5a02-7e32-4090-af91-5954cc741719",
   "metadata": {},
   "outputs": [
    {
     "data": {
      "text/plain": [
       "(30, 2)"
      ]
     },
     "execution_count": 116,
     "metadata": {},
     "output_type": "execute_result"
    }
   ],
   "source": [
    "aqi_training_data.shape"
   ]
  },
  {
   "cell_type": "code",
   "execution_count": 117,
   "id": "182562e1-51ac-4eaf-9156-b785e1611210",
   "metadata": {},
   "outputs": [
    {
     "data": {
      "text/plain": [
       "True"
      ]
     },
     "execution_count": 117,
     "metadata": {},
     "output_type": "execute_result"
    }
   ],
   "source": [
    "weather_training_data[\"datetime\"][2]>weather_training_data[\"datetime\"][1]"
   ]
  },
  {
   "cell_type": "code",
   "execution_count": 118,
   "id": "5b17a2ff-32eb-46d3-b8d9-1401e0fc11f7",
   "metadata": {},
   "outputs": [],
   "source": [
    "aqi_training_data[\"datetime\"]=aqi_training_data[\"datetime\"].apply(lambda x:datetime.datetime.strptime(x,\"%d/%m/%Y\"))"
   ]
  },
  {
   "cell_type": "code",
   "execution_count": 119,
   "id": "a46b4ce4-0453-49e4-81b2-53342f5616b4",
   "metadata": {},
   "outputs": [],
   "source": [
    "weather_training_data[\"datetime\"]=weather_training_data[\"datetime\"].apply(lambda x:datetime.datetime.strptime(x,\"%Y-%m-%d\"))"
   ]
  },
  {
   "cell_type": "code",
   "execution_count": 120,
   "id": "4b863613-2762-4534-9ba4-428cdff394a5",
   "metadata": {},
   "outputs": [
    {
     "data": {
      "text/plain": [
       "Timestamp('2022-12-17 00:00:00')"
      ]
     },
     "execution_count": 120,
     "metadata": {},
     "output_type": "execute_result"
    }
   ],
   "source": [
    "shift=2\n",
    "later_date=max(min(aqi_training_data[\"datetime\"]),min(weather_training_data[\"datetime\"]))\n",
    "later_date"
   ]
  },
  {
   "cell_type": "code",
   "execution_count": 121,
   "id": "482fed96-3538-4b40-9510-1e09397a77bb",
   "metadata": {},
   "outputs": [],
   "source": [
    "start_date=later_date+datetime.timedelta(days=shift)"
   ]
  },
  {
   "cell_type": "code",
   "execution_count": 122,
   "id": "a6a028f4-0327-4816-bd36-ac372ab3bdb9",
   "metadata": {},
   "outputs": [
    {
     "data": {
      "text/plain": [
       "Timestamp('2022-12-19 00:00:00')"
      ]
     },
     "execution_count": 122,
     "metadata": {},
     "output_type": "execute_result"
    }
   ],
   "source": [
    "start_date"
   ]
  },
  {
   "cell_type": "code",
   "execution_count": 123,
   "id": "0fc1dd10-de88-448e-abf7-24165783788d",
   "metadata": {},
   "outputs": [],
   "source": [
    "#truncate weather data\n",
    "truncated_weather_training_data = weather_training_data[weather_training_data[\"datetime\"]>=start_date]"
   ]
  },
  {
   "cell_type": "code",
   "execution_count": 132,
   "id": "11fe0545-63fd-4063-a001-be019ae7d6d8",
   "metadata": {},
   "outputs": [],
   "source": [
    "truncated_weather_training_data.shape\n",
    "truncated_weather_length=len(truncated_weather_training_data)"
   ]
  },
  {
   "cell_type": "code",
   "execution_count": 142,
   "id": "41a13469-d3fa-418b-9345-1a65771d00d3",
   "metadata": {},
   "outputs": [
    {
     "data": {
      "text/plain": [
       "14   2022-12-19\n",
       "15   2022-12-20\n",
       "16   2022-12-21\n",
       "17   2022-12-22\n",
       "18   2022-12-23\n",
       "19   2022-12-24\n",
       "20   2022-12-25\n",
       "21   2022-12-26\n",
       "22   2022-12-27\n",
       "23   2022-12-28\n",
       "24   2022-12-29\n",
       "25   2022-12-30\n",
       "26   2022-12-31\n",
       "27   2023-01-01\n",
       "28   2023-01-02\n",
       "29   2023-01-03\n",
       "30   2023-01-04\n",
       "31   2023-01-05\n",
       "32   2023-01-06\n",
       "33   2023-01-07\n",
       "34   2023-01-08\n",
       "35   2023-01-09\n",
       "36   2023-01-10\n",
       "37   2023-01-11\n",
       "38   2023-01-12\n",
       "39   2023-01-13\n",
       "40   2023-01-14\n",
       "Name: datetime, dtype: datetime64[ns]"
      ]
     },
     "execution_count": 142,
     "metadata": {},
     "output_type": "execute_result"
    }
   ],
   "source": [
    "truncated_weather_training_data[\"datetime\"]"
   ]
  },
  {
   "cell_type": "code",
   "execution_count": 139,
   "id": "cc52adbb-8247-4658-b392-b9282138bcfc",
   "metadata": {},
   "outputs": [],
   "source": [
    "col1 = aqi_training_data[:truncated_weather_length]"
   ]
  },
  {
   "cell_type": "code",
   "execution_count": 140,
   "id": "6922516c-5211-4f82-a735-1cb32623a117",
   "metadata": {},
   "outputs": [
    {
     "data": {
      "text/html": [
       "<div>\n",
       "<style scoped>\n",
       "    .dataframe tbody tr th:only-of-type {\n",
       "        vertical-align: middle;\n",
       "    }\n",
       "\n",
       "    .dataframe tbody tr th {\n",
       "        vertical-align: top;\n",
       "    }\n",
       "\n",
       "    .dataframe thead th {\n",
       "        text-align: right;\n",
       "    }\n",
       "</style>\n",
       "<table border=\"1\" class=\"dataframe\">\n",
       "  <thead>\n",
       "    <tr style=\"text-align: right;\">\n",
       "      <th></th>\n",
       "      <th>datetime</th>\n",
       "      <th>aqi</th>\n",
       "    </tr>\n",
       "  </thead>\n",
       "  <tbody>\n",
       "    <tr>\n",
       "      <th>0</th>\n",
       "      <td>2022-12-17</td>\n",
       "      <td>29</td>\n",
       "    </tr>\n",
       "    <tr>\n",
       "      <th>1</th>\n",
       "      <td>2022-12-18</td>\n",
       "      <td>33</td>\n",
       "    </tr>\n",
       "    <tr>\n",
       "      <th>2</th>\n",
       "      <td>2022-12-19</td>\n",
       "      <td>29</td>\n",
       "    </tr>\n",
       "    <tr>\n",
       "      <th>3</th>\n",
       "      <td>2022-12-20</td>\n",
       "      <td>27</td>\n",
       "    </tr>\n",
       "    <tr>\n",
       "      <th>4</th>\n",
       "      <td>2022-12-21</td>\n",
       "      <td>31</td>\n",
       "    </tr>\n",
       "    <tr>\n",
       "      <th>5</th>\n",
       "      <td>2022-12-22</td>\n",
       "      <td>25</td>\n",
       "    </tr>\n",
       "    <tr>\n",
       "      <th>6</th>\n",
       "      <td>2022-12-23</td>\n",
       "      <td>44</td>\n",
       "    </tr>\n",
       "    <tr>\n",
       "      <th>7</th>\n",
       "      <td>2022-12-24</td>\n",
       "      <td>57</td>\n",
       "    </tr>\n",
       "    <tr>\n",
       "      <th>8</th>\n",
       "      <td>2022-12-25</td>\n",
       "      <td>45</td>\n",
       "    </tr>\n",
       "    <tr>\n",
       "      <th>9</th>\n",
       "      <td>2022-12-26</td>\n",
       "      <td>46</td>\n",
       "    </tr>\n",
       "    <tr>\n",
       "      <th>10</th>\n",
       "      <td>2022-12-27</td>\n",
       "      <td>51</td>\n",
       "    </tr>\n",
       "    <tr>\n",
       "      <th>11</th>\n",
       "      <td>2022-12-28</td>\n",
       "      <td>55</td>\n",
       "    </tr>\n",
       "    <tr>\n",
       "      <th>12</th>\n",
       "      <td>2022-12-29</td>\n",
       "      <td>60</td>\n",
       "    </tr>\n",
       "    <tr>\n",
       "      <th>13</th>\n",
       "      <td>2022-12-30</td>\n",
       "      <td>61</td>\n",
       "    </tr>\n",
       "    <tr>\n",
       "      <th>14</th>\n",
       "      <td>2022-12-31</td>\n",
       "      <td>57</td>\n",
       "    </tr>\n",
       "    <tr>\n",
       "      <th>15</th>\n",
       "      <td>2023-01-01</td>\n",
       "      <td>59</td>\n",
       "    </tr>\n",
       "    <tr>\n",
       "      <th>16</th>\n",
       "      <td>2023-01-02</td>\n",
       "      <td>60</td>\n",
       "    </tr>\n",
       "    <tr>\n",
       "      <th>17</th>\n",
       "      <td>2023-01-03</td>\n",
       "      <td>31</td>\n",
       "    </tr>\n",
       "    <tr>\n",
       "      <th>18</th>\n",
       "      <td>2023-01-04</td>\n",
       "      <td>26</td>\n",
       "    </tr>\n",
       "    <tr>\n",
       "      <th>19</th>\n",
       "      <td>2023-01-05</td>\n",
       "      <td>46</td>\n",
       "    </tr>\n",
       "    <tr>\n",
       "      <th>20</th>\n",
       "      <td>2023-01-06</td>\n",
       "      <td>46</td>\n",
       "    </tr>\n",
       "    <tr>\n",
       "      <th>21</th>\n",
       "      <td>2023-01-07</td>\n",
       "      <td>38</td>\n",
       "    </tr>\n",
       "    <tr>\n",
       "      <th>22</th>\n",
       "      <td>2023-01-08</td>\n",
       "      <td>41</td>\n",
       "    </tr>\n",
       "    <tr>\n",
       "      <th>23</th>\n",
       "      <td>2023-01-09</td>\n",
       "      <td>54</td>\n",
       "    </tr>\n",
       "    <tr>\n",
       "      <th>24</th>\n",
       "      <td>2023-01-10</td>\n",
       "      <td>72</td>\n",
       "    </tr>\n",
       "    <tr>\n",
       "      <th>25</th>\n",
       "      <td>2023-01-11</td>\n",
       "      <td>59</td>\n",
       "    </tr>\n",
       "    <tr>\n",
       "      <th>26</th>\n",
       "      <td>2023-01-12</td>\n",
       "      <td>57</td>\n",
       "    </tr>\n",
       "  </tbody>\n",
       "</table>\n",
       "</div>"
      ],
      "text/plain": [
       "     datetime  aqi\n",
       "0  2022-12-17   29\n",
       "1  2022-12-18   33\n",
       "2  2022-12-19   29\n",
       "3  2022-12-20   27\n",
       "4  2022-12-21   31\n",
       "5  2022-12-22   25\n",
       "6  2022-12-23   44\n",
       "7  2022-12-24   57\n",
       "8  2022-12-25   45\n",
       "9  2022-12-26   46\n",
       "10 2022-12-27   51\n",
       "11 2022-12-28   55\n",
       "12 2022-12-29   60\n",
       "13 2022-12-30   61\n",
       "14 2022-12-31   57\n",
       "15 2023-01-01   59\n",
       "16 2023-01-02   60\n",
       "17 2023-01-03   31\n",
       "18 2023-01-04   26\n",
       "19 2023-01-05   46\n",
       "20 2023-01-06   46\n",
       "21 2023-01-07   38\n",
       "22 2023-01-08   41\n",
       "23 2023-01-09   54\n",
       "24 2023-01-10   72\n",
       "25 2023-01-11   59\n",
       "26 2023-01-12   57"
      ]
     },
     "execution_count": 140,
     "metadata": {},
     "output_type": "execute_result"
    }
   ],
   "source": [
    "col1"
   ]
  },
  {
   "cell_type": "code",
   "execution_count": 158,
   "id": "6597c802-bcab-45d9-b95c-bdffa61cd19b",
   "metadata": {},
   "outputs": [
    {
     "name": "stderr",
     "output_type": "stream",
     "text": [
      "C:\\Users\\Admin\\AppData\\Local\\Temp\\ipykernel_9700\\3101268457.py:1: SettingWithCopyWarning: \n",
      "A value is trying to be set on a copy of a slice from a DataFrame.\n",
      "Try using .loc[row_indexer,col_indexer] = value instead\n",
      "\n",
      "See the caveats in the documentation: https://pandas.pydata.org/pandas-docs/stable/user_guide/indexing.html#returning-a-view-versus-a-copy\n",
      "  truncated_weather_training_data[\"aqi\"]=aqi_training_data[\"aqi\"]\n"
     ]
    }
   ],
   "source": [
    "\n",
    "truncated_weather_training_data[\"aqi\"]=aqi_training_data[\"aqi\"]"
   ]
  },
  {
   "cell_type": "code",
   "execution_count": 161,
   "id": "7c3e82d8-72f4-41d5-a92d-0c3e0aaa44f1",
   "metadata": {},
   "outputs": [
    {
     "data": {
      "text/plain": [
       "(30,)"
      ]
     },
     "execution_count": 161,
     "metadata": {},
     "output_type": "execute_result"
    }
   ],
   "source": [
    "aqi_training_data[\"aqi\"].shape"
   ]
  },
  {
   "cell_type": "code",
   "execution_count": 162,
   "id": "7c2eba6e-9d44-4f6d-aa20-3c908a0cc8d6",
   "metadata": {},
   "outputs": [
    {
     "data": {
      "text/plain": [
       "(27, 37)"
      ]
     },
     "execution_count": 162,
     "metadata": {},
     "output_type": "execute_result"
    }
   ],
   "source": [
    "truncated_weather_training_data.shape"
   ]
  },
  {
   "cell_type": "code",
   "execution_count": 192,
   "id": "ffe0edeb-6305-40bd-857b-e20f54ce0b4e",
   "metadata": {},
   "outputs": [],
   "source": [
    "final=aqi_training_data.merge(weather_training_data,on=\"datetime\", how=\"outer\")\n",
    "final=final.sort_values(by=\"datetime\")"
   ]
  },
  {
   "cell_type": "code",
   "execution_count": 193,
   "id": "cb89f4dc-5ccf-472f-9e5b-806ef2da0958",
   "metadata": {},
   "outputs": [],
   "source": [
    "final[\"aqi_1\"]=final[\"aqi\"].shift(1)\n",
    "final[\"aqi_2\"]=final[\"aqi\"].shift(2)\n",
    "final[\"aqi_3\"]=final[\"aqi\"].shift(3)\n",
    "final[\"aqi_4\"]=final[\"aqi\"].shift(4)\n",
    "final[\"aqi_5\"]=final[\"aqi\"].shift(5)\n",
    "final[\"aqi_6\"]=final[\"aqi\"].shift(6)\n",
    "final[\"aqi_7\"]=final[\"aqi\"].shift(7)"
   ]
  },
  {
   "cell_type": "code",
   "execution_count": 194,
   "id": "3086ca3b-fdc5-481d-a8f8-cb142abc687a",
   "metadata": {},
   "outputs": [
    {
     "data": {
      "text/html": [
       "<div>\n",
       "<style scoped>\n",
       "    .dataframe tbody tr th:only-of-type {\n",
       "        vertical-align: middle;\n",
       "    }\n",
       "\n",
       "    .dataframe tbody tr th {\n",
       "        vertical-align: top;\n",
       "    }\n",
       "\n",
       "    .dataframe thead th {\n",
       "        text-align: right;\n",
       "    }\n",
       "</style>\n",
       "<table border=\"1\" class=\"dataframe\">\n",
       "  <thead>\n",
       "    <tr style=\"text-align: right;\">\n",
       "      <th></th>\n",
       "      <th>datetime</th>\n",
       "      <th>aqi</th>\n",
       "      <th>datetimeEpoch</th>\n",
       "      <th>tempmax</th>\n",
       "      <th>tempmin</th>\n",
       "      <th>temp</th>\n",
       "      <th>feelslikemax</th>\n",
       "      <th>feelslikemin</th>\n",
       "      <th>feelslike</th>\n",
       "      <th>dew</th>\n",
       "      <th>...</th>\n",
       "      <th>icon</th>\n",
       "      <th>stations</th>\n",
       "      <th>source</th>\n",
       "      <th>aqi_1</th>\n",
       "      <th>aqi_2</th>\n",
       "      <th>aqi_3</th>\n",
       "      <th>aqi_4</th>\n",
       "      <th>aqi_5</th>\n",
       "      <th>aqi_6</th>\n",
       "      <th>aqi_7</th>\n",
       "    </tr>\n",
       "  </thead>\n",
       "  <tbody>\n",
       "    <tr>\n",
       "      <th>25</th>\n",
       "      <td>2023-01-11</td>\n",
       "      <td>59.0</td>\n",
       "      <td>1.673366e+09</td>\n",
       "      <td>85.1</td>\n",
       "      <td>76.9</td>\n",
       "      <td>79.0</td>\n",
       "      <td>92.4</td>\n",
       "      <td>76.9</td>\n",
       "      <td>80.3</td>\n",
       "      <td>73.9</td>\n",
       "      <td>...</td>\n",
       "      <td>rain</td>\n",
       "      <td>['48698099999', '48679099999', 'WSAP', '486940...</td>\n",
       "      <td>obs</td>\n",
       "      <td>72.0</td>\n",
       "      <td>54.0</td>\n",
       "      <td>41.0</td>\n",
       "      <td>38.0</td>\n",
       "      <td>46.0</td>\n",
       "      <td>46.0</td>\n",
       "      <td>26.0</td>\n",
       "    </tr>\n",
       "    <tr>\n",
       "      <th>26</th>\n",
       "      <td>2023-01-12</td>\n",
       "      <td>57.0</td>\n",
       "      <td>1.673453e+09</td>\n",
       "      <td>90.4</td>\n",
       "      <td>75.3</td>\n",
       "      <td>81.9</td>\n",
       "      <td>98.1</td>\n",
       "      <td>75.3</td>\n",
       "      <td>85.6</td>\n",
       "      <td>72.8</td>\n",
       "      <td>...</td>\n",
       "      <td>rain</td>\n",
       "      <td>['48698099999', '48679099999', 'WSAP', '486940...</td>\n",
       "      <td>obs</td>\n",
       "      <td>59.0</td>\n",
       "      <td>72.0</td>\n",
       "      <td>54.0</td>\n",
       "      <td>41.0</td>\n",
       "      <td>38.0</td>\n",
       "      <td>46.0</td>\n",
       "      <td>46.0</td>\n",
       "    </tr>\n",
       "    <tr>\n",
       "      <th>27</th>\n",
       "      <td>2023-01-13</td>\n",
       "      <td>54.0</td>\n",
       "      <td>1.673539e+09</td>\n",
       "      <td>88.1</td>\n",
       "      <td>56.9</td>\n",
       "      <td>78.5</td>\n",
       "      <td>97.6</td>\n",
       "      <td>56.9</td>\n",
       "      <td>80.6</td>\n",
       "      <td>73.5</td>\n",
       "      <td>...</td>\n",
       "      <td>rain</td>\n",
       "      <td>['48698099999', 'EUCDE37', '48679099999', 'WSA...</td>\n",
       "      <td>obs</td>\n",
       "      <td>57.0</td>\n",
       "      <td>59.0</td>\n",
       "      <td>72.0</td>\n",
       "      <td>54.0</td>\n",
       "      <td>41.0</td>\n",
       "      <td>38.0</td>\n",
       "      <td>46.0</td>\n",
       "    </tr>\n",
       "    <tr>\n",
       "      <th>28</th>\n",
       "      <td>2023-01-14</td>\n",
       "      <td>65.0</td>\n",
       "      <td>1.673626e+09</td>\n",
       "      <td>87.6</td>\n",
       "      <td>48.7</td>\n",
       "      <td>78.1</td>\n",
       "      <td>96.7</td>\n",
       "      <td>48.7</td>\n",
       "      <td>80.9</td>\n",
       "      <td>72.8</td>\n",
       "      <td>...</td>\n",
       "      <td>rain</td>\n",
       "      <td>['EUCDE37', 'WSAP', 'WSSS', 'WIDD', 'WSSL', 'W...</td>\n",
       "      <td>obs</td>\n",
       "      <td>54.0</td>\n",
       "      <td>57.0</td>\n",
       "      <td>59.0</td>\n",
       "      <td>72.0</td>\n",
       "      <td>54.0</td>\n",
       "      <td>41.0</td>\n",
       "      <td>38.0</td>\n",
       "    </tr>\n",
       "    <tr>\n",
       "      <th>29</th>\n",
       "      <td>2023-01-15</td>\n",
       "      <td>65.0</td>\n",
       "      <td>NaN</td>\n",
       "      <td>NaN</td>\n",
       "      <td>NaN</td>\n",
       "      <td>NaN</td>\n",
       "      <td>NaN</td>\n",
       "      <td>NaN</td>\n",
       "      <td>NaN</td>\n",
       "      <td>NaN</td>\n",
       "      <td>...</td>\n",
       "      <td>NaN</td>\n",
       "      <td>NaN</td>\n",
       "      <td>NaN</td>\n",
       "      <td>65.0</td>\n",
       "      <td>54.0</td>\n",
       "      <td>57.0</td>\n",
       "      <td>59.0</td>\n",
       "      <td>72.0</td>\n",
       "      <td>54.0</td>\n",
       "      <td>41.0</td>\n",
       "    </tr>\n",
       "  </tbody>\n",
       "</table>\n",
       "<p>5 rows × 44 columns</p>\n",
       "</div>"
      ],
      "text/plain": [
       "     datetime   aqi  datetimeEpoch  tempmax  tempmin  temp  feelslikemax  \\\n",
       "25 2023-01-11  59.0   1.673366e+09     85.1     76.9  79.0          92.4   \n",
       "26 2023-01-12  57.0   1.673453e+09     90.4     75.3  81.9          98.1   \n",
       "27 2023-01-13  54.0   1.673539e+09     88.1     56.9  78.5          97.6   \n",
       "28 2023-01-14  65.0   1.673626e+09     87.6     48.7  78.1          96.7   \n",
       "29 2023-01-15  65.0            NaN      NaN      NaN   NaN           NaN   \n",
       "\n",
       "    feelslikemin  feelslike   dew  ...  icon  \\\n",
       "25          76.9       80.3  73.9  ...  rain   \n",
       "26          75.3       85.6  72.8  ...  rain   \n",
       "27          56.9       80.6  73.5  ...  rain   \n",
       "28          48.7       80.9  72.8  ...  rain   \n",
       "29           NaN        NaN   NaN  ...   NaN   \n",
       "\n",
       "                                             stations  source  aqi_1 aqi_2  \\\n",
       "25  ['48698099999', '48679099999', 'WSAP', '486940...     obs   72.0  54.0   \n",
       "26  ['48698099999', '48679099999', 'WSAP', '486940...     obs   59.0  72.0   \n",
       "27  ['48698099999', 'EUCDE37', '48679099999', 'WSA...     obs   57.0  59.0   \n",
       "28  ['EUCDE37', 'WSAP', 'WSSS', 'WIDD', 'WSSL', 'W...     obs   54.0  57.0   \n",
       "29                                                NaN     NaN   65.0  54.0   \n",
       "\n",
       "    aqi_3  aqi_4  aqi_5  aqi_6  aqi_7  \n",
       "25   41.0   38.0   46.0   46.0   26.0  \n",
       "26   54.0   41.0   38.0   46.0   46.0  \n",
       "27   72.0   54.0   41.0   38.0   46.0  \n",
       "28   59.0   72.0   54.0   41.0   38.0  \n",
       "29   57.0   59.0   72.0   54.0   41.0  \n",
       "\n",
       "[5 rows x 44 columns]"
      ]
     },
     "execution_count": 194,
     "metadata": {},
     "output_type": "execute_result"
    }
   ],
   "source": [
    "final.tail()"
   ]
  },
  {
   "cell_type": "code",
   "execution_count": 196,
   "id": "a3385225-2e66-47ef-892f-d81f1cad2b59",
   "metadata": {},
   "outputs": [],
   "source": [
    "final=final.drop([\"aqi\"],axis=1)"
   ]
  },
  {
   "cell_type": "code",
   "execution_count": 208,
   "id": "a0a3fbb8-1d6b-4409-a66f-7b6b7152ef8e",
   "metadata": {},
   "outputs": [],
   "source": [
    "final=final.dropna(subset=[f\"aqi_{i}\" for i in range(1,8)],how=\"any\",axis=\"rows\")"
   ]
  },
  {
   "cell_type": "code",
   "execution_count": 214,
   "id": "fe6c4d30-9c7f-4b68-9e96-a73a72ebd34a",
   "metadata": {},
   "outputs": [],
   "source": [
    "final=final.reset_index()"
   ]
  },
  {
   "cell_type": "code",
   "execution_count": 216,
   "id": "e00ec575-aa45-4508-9f32-f540cf50d139",
   "metadata": {},
   "outputs": [],
   "source": [
    "final=final.drop([len(final)-1],axis=0)"
   ]
  },
  {
   "cell_type": "code",
   "execution_count": 218,
   "id": "61bfe8ff-21d8-4757-98a1-2fe2ecc844e5",
   "metadata": {},
   "outputs": [
    {
     "data": {
      "text/plain": [
       "Index(['index', 'datetime', 'datetimeEpoch', 'tempmax', 'tempmin', 'temp',\n",
       "       'feelslikemax', 'feelslikemin', 'feelslike', 'dew', 'humidity',\n",
       "       'precip', 'precipprob', 'precipcover', 'preciptype', 'snow',\n",
       "       'snowdepth', 'windgust', 'windspeed', 'winddir', 'pressure',\n",
       "       'cloudcover', 'visibility', 'solarradiation', 'solarenergy', 'uvindex',\n",
       "       'severerisk', 'sunrise', 'sunriseEpoch', 'sunset', 'sunsetEpoch',\n",
       "       'moonphase', 'conditions', 'description', 'icon', 'stations', 'source',\n",
       "       'aqi_1', 'aqi_2', 'aqi_3', 'aqi_4', 'aqi_5', 'aqi_6', 'aqi_7'],\n",
       "      dtype='object')"
      ]
     },
     "execution_count": 218,
     "metadata": {},
     "output_type": "execute_result"
    }
   ],
   "source": [
    "final.columns"
   ]
  },
  {
   "cell_type": "code",
   "execution_count": 219,
   "id": "b9272b31-69f4-42cf-bef7-e7ff6e7ee4d4",
   "metadata": {},
   "outputs": [
    {
     "data": {
      "text/html": [
       "<div>\n",
       "<style scoped>\n",
       "    .dataframe tbody tr th:only-of-type {\n",
       "        vertical-align: middle;\n",
       "    }\n",
       "\n",
       "    .dataframe tbody tr th {\n",
       "        vertical-align: top;\n",
       "    }\n",
       "\n",
       "    .dataframe thead th {\n",
       "        text-align: right;\n",
       "    }\n",
       "</style>\n",
       "<table border=\"1\" class=\"dataframe\">\n",
       "  <thead>\n",
       "    <tr style=\"text-align: right;\">\n",
       "      <th></th>\n",
       "      <th>index</th>\n",
       "      <th>datetime</th>\n",
       "      <th>datetimeEpoch</th>\n",
       "      <th>tempmax</th>\n",
       "      <th>tempmin</th>\n",
       "      <th>temp</th>\n",
       "      <th>feelslikemax</th>\n",
       "      <th>feelslikemin</th>\n",
       "      <th>feelslike</th>\n",
       "      <th>dew</th>\n",
       "      <th>...</th>\n",
       "      <th>icon</th>\n",
       "      <th>stations</th>\n",
       "      <th>source</th>\n",
       "      <th>aqi_1</th>\n",
       "      <th>aqi_2</th>\n",
       "      <th>aqi_3</th>\n",
       "      <th>aqi_4</th>\n",
       "      <th>aqi_5</th>\n",
       "      <th>aqi_6</th>\n",
       "      <th>aqi_7</th>\n",
       "    </tr>\n",
       "  </thead>\n",
       "  <tbody>\n",
       "    <tr>\n",
       "      <th>0</th>\n",
       "      <td>7</td>\n",
       "      <td>2022-12-24</td>\n",
       "      <td>1.671811e+09</td>\n",
       "      <td>86.9</td>\n",
       "      <td>77.1</td>\n",
       "      <td>81.1</td>\n",
       "      <td>91.0</td>\n",
       "      <td>77.1</td>\n",
       "      <td>83.0</td>\n",
       "      <td>71.3</td>\n",
       "      <td>...</td>\n",
       "      <td>partly-cloudy-day</td>\n",
       "      <td>['48698099999', '48679099999', 'WSAP', '486940...</td>\n",
       "      <td>obs</td>\n",
       "      <td>44.0</td>\n",
       "      <td>25.0</td>\n",
       "      <td>31.0</td>\n",
       "      <td>27.0</td>\n",
       "      <td>29.0</td>\n",
       "      <td>33.0</td>\n",
       "      <td>29.0</td>\n",
       "    </tr>\n",
       "  </tbody>\n",
       "</table>\n",
       "<p>1 rows × 44 columns</p>\n",
       "</div>"
      ],
      "text/plain": [
       "   index   datetime  datetimeEpoch  tempmax  tempmin  temp  feelslikemax  \\\n",
       "0      7 2022-12-24   1.671811e+09     86.9     77.1  81.1          91.0   \n",
       "\n",
       "   feelslikemin  feelslike   dew  ...               icon  \\\n",
       "0          77.1       83.0  71.3  ...  partly-cloudy-day   \n",
       "\n",
       "                                            stations  source  aqi_1 aqi_2  \\\n",
       "0  ['48698099999', '48679099999', 'WSAP', '486940...     obs   44.0  25.0   \n",
       "\n",
       "   aqi_3  aqi_4  aqi_5  aqi_6  aqi_7  \n",
       "0   31.0   27.0   29.0   33.0   29.0  \n",
       "\n",
       "[1 rows x 44 columns]"
      ]
     },
     "execution_count": 219,
     "metadata": {},
     "output_type": "execute_result"
    }
   ],
   "source": [
    "final.head(1)"
   ]
  },
  {
   "cell_type": "code",
   "execution_count": 220,
   "id": "bc00f38f-f668-4763-b6af-343341e53c2c",
   "metadata": {},
   "outputs": [],
   "source": [
    "columns_to_drop=[\"datetime\",\"datetimeEpoch\",\"preciptype\",\"snowdepth\",\"sunrise\",\"sunset\",\"icon\",\"stations\",\"source\"]"
   ]
  },
  {
   "cell_type": "code",
   "execution_count": 222,
   "id": "ab180979-d46e-4328-b29f-c176f7c080a1",
   "metadata": {},
   "outputs": [],
   "source": [
    "final=final.drop(columns_to_drop,axis=1)"
   ]
  },
  {
   "cell_type": "code",
   "execution_count": 223,
   "id": "c766f3c0-7026-4297-b8b0-7ea4e0586fcd",
   "metadata": {},
   "outputs": [
    {
     "data": {
      "text/plain": [
       "Index(['index', 'tempmax', 'tempmin', 'temp', 'feelslikemax', 'feelslikemin',\n",
       "       'feelslike', 'dew', 'humidity', 'precip', 'precipprob', 'precipcover',\n",
       "       'snow', 'windgust', 'windspeed', 'winddir', 'pressure', 'cloudcover',\n",
       "       'visibility', 'solarradiation', 'solarenergy', 'uvindex', 'severerisk',\n",
       "       'sunriseEpoch', 'sunsetEpoch', 'moonphase', 'conditions', 'description',\n",
       "       'aqi_1', 'aqi_2', 'aqi_3', 'aqi_4', 'aqi_5', 'aqi_6', 'aqi_7'],\n",
       "      dtype='object')"
      ]
     },
     "execution_count": 223,
     "metadata": {},
     "output_type": "execute_result"
    }
   ],
   "source": [
    "final.columns"
   ]
  },
  {
   "cell_type": "code",
   "execution_count": null,
   "id": "3a97a407-13da-4d35-83ec-a35c8ef8ccff",
   "metadata": {},
   "outputs": [],
   "source": []
  }
 ],
 "metadata": {
  "kernelspec": {
   "display_name": "Python 3 (ipykernel)",
   "language": "python",
   "name": "python3"
  },
  "language_info": {
   "codemirror_mode": {
    "name": "ipython",
    "version": 3
   },
   "file_extension": ".py",
   "mimetype": "text/x-python",
   "name": "python",
   "nbconvert_exporter": "python",
   "pygments_lexer": "ipython3",
   "version": "3.9.0"
  }
 },
 "nbformat": 4,
 "nbformat_minor": 5
}
